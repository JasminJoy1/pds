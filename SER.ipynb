{
 "cells": [
  {
   "cell_type": "code",
   "execution_count": 44,
   "id": "b957558d",
   "metadata": {},
   "outputs": [],
   "source": [
    "import pandas as pd\n",
    "import numpy as np\n",
    "import seaborn as sns\n",
    "import os\n",
    "import sys\n",
    "import matplotlib.pyplot as plt"
   ]
  },
  {
   "cell_type": "code",
   "execution_count": 45,
   "id": "1fb1296f",
   "metadata": {},
   "outputs": [],
   "source": [
    "Ravdess = \"C:/Python/PlayArea/speech-emotion-recognition-ravdess-data/\""
   ]
  },
  {
   "cell_type": "code",
   "execution_count": 74,
   "id": "6ce7672e",
   "metadata": {},
   "outputs": [],
   "source": [
    "ravdess_directory_list = os.listdir(Ravdess)\n",
    "\n",
    "Emotion = []\n",
    "Gender = []\n",
    "Modality = []\n",
    "Vocal_channel = []\n",
    "Emotional_intensity = []\n",
    "Statement = []\n",
    "Repetition = []\n",
    "File_Name = []\n",
    "\n",
    "for dir in ravdess_directory_list:\n",
    "    Speech_List = os.listdir(Ravdess + dir)\n",
    "    for FindEmotion in Speech_List:\n",
    "        FindEmotion1 = FindEmotion.split('.')[0]\n",
    "        FindEmotion1 = FindEmotion1.split('-')\n",
    "        # third part in each file represents the emotion associated to that file.\n",
    "        Modality.append(int(FindEmotion1[0]))\n",
    "        Vocal_channel.append(int(FindEmotion1[1]))\n",
    "        Emotion.append(int(FindEmotion1[2]))\n",
    "        Emotional_intensity.append(int(FindEmotion1[3]))\n",
    "        Statement.append(int(FindEmotion1[4]))\n",
    "        Repetition.append(int(FindEmotion1[5]))\n",
    "        Gender.append(int(FindEmotion1[6]))\n",
    "        File_Name.append(FindEmotion)"
   ]
  },
  {
   "cell_type": "code",
   "execution_count": 77,
   "id": "c0b50417",
   "metadata": {},
   "outputs": [],
   "source": [
    "Modality_df = pd.DataFrame(Modality, columns=['Modality'])\n",
    "Vocal_channel_df = pd.DataFrame(Vocal_channel, columns=['Vocal_Channel'])\n",
    "Emotion_df = pd.DataFrame(Emotion, columns=['Emotions'])\n",
    "Emotional_intensity_df = pd.DataFrame(Emotional_intensity, columns=['Emotional_Intensity'])\n",
    "Statement_df = pd.DataFrame(Statement, columns=['Statement'])\n",
    "Repetition_df = pd.DataFrame(Repetition, columns=['Repetition'])\n",
    "Gender_df = pd.DataFrame(Gender, columns=['Gender'])\n",
    "File_Name_df = pd.DataFrame(File_Name, columns=['File_Name'])"
   ]
  },
  {
   "cell_type": "code",
   "execution_count": 78,
   "id": "b55d3ddb",
   "metadata": {},
   "outputs": [],
   "source": [
    "Modality_df.Modality.replace({1:'Full-AV', 2:'Video-Only', 3:'Audio-Only'}, inplace=True)\n",
    "Vocal_channel_df.Vocal_Channel.replace({1:'Speech', 2:'Song'}, inplace=True)\n",
    "Emotion_df.Emotions.replace({1:'neutral', 2:'calm', 3:'happy', 4:'sad', 5:'angry', 6:'fear', 7:'disgust', 8:'surprise'}, inplace=True)\n",
    "Emotional_intensity_df.Emotional_Intensity.replace({1:'Normal', 2:'Strong'}, inplace=True)\n",
    "Statement_df.Statement.replace({1:'Kids are talking by the door', 2:'Dogs are sitting by the door'}, inplace=True)\n",
    "Repetition_df.Repetition.replace({1:'1st repetition', 2:'2nd repetition'}, inplace=True)\n",
    "\n",
    "Gender_df = Gender_df.apply(lambda x: \"Male\" if(x.Gender%2!=0) else \"Female\", axis=1)\n",
    "Gender_df = pd.DataFrame(Gender_df, columns=['Gender'])\n",
    "\n",
    "Ravdess_df = pd.concat([File_Name_df,Modality_df,Vocal_channel_df,Emotion_df, Emotional_intensity_df,Statement_df,Repetition_df,Gender_df], axis=1)\n"
   ]
  },
  {
   "cell_type": "code",
   "execution_count": 80,
   "id": "6dedc646",
   "metadata": {},
   "outputs": [
    {
     "data": {
      "text/html": [
       "<div>\n",
       "<style scoped>\n",
       "    .dataframe tbody tr th:only-of-type {\n",
       "        vertical-align: middle;\n",
       "    }\n",
       "\n",
       "    .dataframe tbody tr th {\n",
       "        vertical-align: top;\n",
       "    }\n",
       "\n",
       "    .dataframe thead th {\n",
       "        text-align: right;\n",
       "    }\n",
       "</style>\n",
       "<table border=\"1\" class=\"dataframe\">\n",
       "  <thead>\n",
       "    <tr style=\"text-align: right;\">\n",
       "      <th></th>\n",
       "      <th>File_Name</th>\n",
       "      <th>Modality</th>\n",
       "      <th>Vocal_Channel</th>\n",
       "      <th>Emotions</th>\n",
       "      <th>Emotional_Intensity</th>\n",
       "      <th>Statement</th>\n",
       "      <th>Repetition</th>\n",
       "      <th>Gender</th>\n",
       "    </tr>\n",
       "  </thead>\n",
       "  <tbody>\n",
       "    <tr>\n",
       "      <th>0</th>\n",
       "      <td>03-01-01-01-01-01-01.wav</td>\n",
       "      <td>Audio-Only</td>\n",
       "      <td>Speech</td>\n",
       "      <td>neutral</td>\n",
       "      <td>Normal</td>\n",
       "      <td>Kids are talking by the door</td>\n",
       "      <td>1st repetition</td>\n",
       "      <td>Male</td>\n",
       "    </tr>\n",
       "    <tr>\n",
       "      <th>1</th>\n",
       "      <td>03-01-01-01-01-02-01.wav</td>\n",
       "      <td>Audio-Only</td>\n",
       "      <td>Speech</td>\n",
       "      <td>neutral</td>\n",
       "      <td>Normal</td>\n",
       "      <td>Kids are talking by the door</td>\n",
       "      <td>2nd repetition</td>\n",
       "      <td>Male</td>\n",
       "    </tr>\n",
       "    <tr>\n",
       "      <th>2</th>\n",
       "      <td>03-01-01-01-02-01-01.wav</td>\n",
       "      <td>Audio-Only</td>\n",
       "      <td>Speech</td>\n",
       "      <td>neutral</td>\n",
       "      <td>Normal</td>\n",
       "      <td>Dogs are sitting by the door</td>\n",
       "      <td>1st repetition</td>\n",
       "      <td>Male</td>\n",
       "    </tr>\n",
       "    <tr>\n",
       "      <th>3</th>\n",
       "      <td>03-01-01-01-02-02-01.wav</td>\n",
       "      <td>Audio-Only</td>\n",
       "      <td>Speech</td>\n",
       "      <td>neutral</td>\n",
       "      <td>Normal</td>\n",
       "      <td>Dogs are sitting by the door</td>\n",
       "      <td>2nd repetition</td>\n",
       "      <td>Male</td>\n",
       "    </tr>\n",
       "    <tr>\n",
       "      <th>4</th>\n",
       "      <td>03-01-02-01-01-01-01.wav</td>\n",
       "      <td>Audio-Only</td>\n",
       "      <td>Speech</td>\n",
       "      <td>calm</td>\n",
       "      <td>Normal</td>\n",
       "      <td>Kids are talking by the door</td>\n",
       "      <td>1st repetition</td>\n",
       "      <td>Male</td>\n",
       "    </tr>\n",
       "  </tbody>\n",
       "</table>\n",
       "</div>"
      ],
      "text/plain": [
       "                  File_Name    Modality Vocal_Channel Emotions  \\\n",
       "0  03-01-01-01-01-01-01.wav  Audio-Only        Speech  neutral   \n",
       "1  03-01-01-01-01-02-01.wav  Audio-Only        Speech  neutral   \n",
       "2  03-01-01-01-02-01-01.wav  Audio-Only        Speech  neutral   \n",
       "3  03-01-01-01-02-02-01.wav  Audio-Only        Speech  neutral   \n",
       "4  03-01-02-01-01-01-01.wav  Audio-Only        Speech     calm   \n",
       "\n",
       "  Emotional_Intensity                     Statement      Repetition Gender  \n",
       "0              Normal  Kids are talking by the door  1st repetition   Male  \n",
       "1              Normal  Kids are talking by the door  2nd repetition   Male  \n",
       "2              Normal  Dogs are sitting by the door  1st repetition   Male  \n",
       "3              Normal  Dogs are sitting by the door  2nd repetition   Male  \n",
       "4              Normal  Kids are talking by the door  1st repetition   Male  "
      ]
     },
     "execution_count": 80,
     "metadata": {},
     "output_type": "execute_result"
    }
   ],
   "source": [
    "Ravdess_df.head()"
   ]
  },
  {
   "cell_type": "code",
   "execution_count": 87,
   "id": "6b8a9699",
   "metadata": {},
   "outputs": [
    {
     "data": {
      "image/png": "[encoded data removed]",
      "text/plain": [
       "<Figure size 720x432 with 1 Axes>"
      ]
     },
     "metadata": {
      "needs_background": "light"
     },
     "output_type": "display_data"
    }
   ],
   "source": [
    "plt.figure(figsize=(10, 6))\n",
    "ax=sns.countplot(data=Ravdess_df,x=\"Emotions\")\n",
    "ax.bar_label(ax.containers[0])\n",
    "plt.title(\"Count of records in each class\")\n",
    "plt.xticks(rotation=\"vertical\")\n",
    "plt.show()"
   ]
  },
  {
   "cell_type": "code",
   "execution_count": 91,
   "id": "6e1b85b1",
   "metadata": {},
   "outputs": [
    {
     "data": {
      "image/png": "[encoded data removed]",
      "text/plain": [
       "<Figure size 720x432 with 1 Axes>"
      ]
     },
     "metadata": {
      "needs_background": "light"
     },
     "output_type": "display_data"
    }
   ],
   "source": [
    "plt.figure(figsize=(10, 6))\n",
    "ax=sns.countplot(data=Ravdess_df,x=\"Emotions\",hue=\"Emotional_Intensity\",palette = 'Blues')\n",
    "for container in ax.containers:\n",
    "    ax.bar_label(container)\n",
    "plt.title(\"Count of records in each class\")\n",
    "plt.xticks(rotation=\"vertical\")\n",
    "plt.show()"
   ]
  },
  {
   "cell_type": "code",
   "execution_count": 86,
   "id": "0be3df15",
   "metadata": {},
   "outputs": [
    {
     "data": {
      "image/png": "[encoded data removed]",
      "text/plain": [
       "<Figure size 720x432 with 1 Axes>"
      ]
     },
     "metadata": {
      "needs_background": "light"
     },
     "output_type": "display_data"
    }
   ],
   "source": [
    "plt.figure(figsize=(10, 6))\n",
    "sns.countplot(data=Ravdess_df,x=\"Emotions\",hue=\"Gender\")\n",
    "plt.title(\"Count of records in each class\")\n",
    "plt.xticks(rotation=\"vertical\")\n",
    "plt.show()"
   ]
  },
  {
   "cell_type": "code",
   "execution_count": null,
   "id": "34b11f5d",
   "metadata": {},
   "outputs": [],
   "source": []
  },
  {
   "cell_type": "code",
   "execution_count": null,
   "id": "2a719bd9",
   "metadata": {},
   "outputs": [],
   "source": []
  }
 ],
 "metadata": {
  "kernelspec": {
   "display_name": "Python 3 (ipykernel)",
   "language": "python",
   "name": "python3"
  },
  "language_info": {
   "codemirror_mode": {
    "name": "ipython",
    "version": 3
   },
   "file_extension": ".py",
   "mimetype": "text/x-python",
   "name": "python",
   "nbconvert_exporter": "python",
   "pygments_lexer": "ipython3",
   "version": "3.9.12"
  }
 },
 "nbformat": 4,
 "nbformat_minor": 5
}
