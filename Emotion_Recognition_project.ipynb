{
 "cells": [
  {
   "cell_type": "markdown",
   "metadata": {
    "id": "SwnTFBefa5H0"
   },
   "source": [
    "## **Emotion Recognition from Speech Using Machine Learning Algorithms.**"
   ]
  },
  {
   "cell_type": "code",
   "execution_count": 1,
   "metadata": {
    "id": "NzSHoLsdWr3D"
   },
   "outputs": [],
   "source": [
    "import pandas as pd\n",
    "import numpy as np\n",
    "import seaborn as sns\n",
    "import os\n",
    "import sys\n",
    "import matplotlib.pyplot as plt\n",
    "import librosa\n",
    "import librosa.display\n",
    "\n",
    "import warnings\n",
    "warnings.filterwarnings('ignore')"
   ]
  },
  {
   "cell_type": "markdown",
   "metadata": {
    "id": "iR_zHDkTkBj2"
   },
   "source": [
    "Reading CSV File and Creating a Copy"
   ]
  },
  {
   "cell_type": "code",
   "execution_count": 2,
   "metadata": {
    "id": "t52PR9N1hfvn"
   },
   "outputs": [],
   "source": [
    "speech_reader = pd.read_csv(\"C:/Python/PlayArea/speech-emotion-recognition-ravdess-data.csv\", delimiter=',')"
   ]
  },
  {
   "cell_type": "code",
   "execution_count": 3,
   "metadata": {
    "id": "OciONbPCkD9H"
   },
   "outputs": [],
   "source": [
    "speech_reader_selected=speech_reader.copy()"
   ]
  },
  {
   "cell_type": "markdown",
   "metadata": {
    "id": "b9EWljgBk4yi"
   },
   "source": [
    "Printing the First 5 rows."
   ]
  },
  {
   "cell_type": "code",
   "execution_count": 4,
   "metadata": {
    "id": "rjzgkKj_k6rb"
   },
   "outputs": [
    {
     "data": {
      "text/html": [
       "<div>\n",
       "<style scoped>\n",
       "    .dataframe tbody tr th:only-of-type {\n",
       "        vertical-align: middle;\n",
       "    }\n",
       "\n",
       "    .dataframe tbody tr th {\n",
       "        vertical-align: top;\n",
       "    }\n",
       "\n",
       "    .dataframe thead th {\n",
       "        text-align: right;\n",
       "    }\n",
       "</style>\n",
       "<table border=\"1\" class=\"dataframe\">\n",
       "  <thead>\n",
       "    <tr style=\"text-align: right;\">\n",
       "      <th></th>\n",
       "      <th>Unnamed: 0</th>\n",
       "      <th>File_Path</th>\n",
       "      <th>File_Name</th>\n",
       "      <th>Modality</th>\n",
       "      <th>Vocal_Channel</th>\n",
       "      <th>Emotions</th>\n",
       "      <th>Emotional_Intensity</th>\n",
       "      <th>Statement</th>\n",
       "      <th>Repetition</th>\n",
       "      <th>Gender</th>\n",
       "    </tr>\n",
       "  </thead>\n",
       "  <tbody>\n",
       "    <tr>\n",
       "      <th>0</th>\n",
       "      <td>0</td>\n",
       "      <td>C:/Python/PlayArea/speech-emotion-recognition-...</td>\n",
       "      <td>03-01-01-01-01-01-01.wav</td>\n",
       "      <td>Audio-Only</td>\n",
       "      <td>Speech</td>\n",
       "      <td>neutral</td>\n",
       "      <td>Normal</td>\n",
       "      <td>Kids are talking by the door</td>\n",
       "      <td>1st repetition</td>\n",
       "      <td>Male</td>\n",
       "    </tr>\n",
       "    <tr>\n",
       "      <th>1</th>\n",
       "      <td>1</td>\n",
       "      <td>C:/Python/PlayArea/speech-emotion-recognition-...</td>\n",
       "      <td>03-01-01-01-01-02-01.wav</td>\n",
       "      <td>Audio-Only</td>\n",
       "      <td>Speech</td>\n",
       "      <td>neutral</td>\n",
       "      <td>Normal</td>\n",
       "      <td>Kids are talking by the door</td>\n",
       "      <td>2nd repetition</td>\n",
       "      <td>Male</td>\n",
       "    </tr>\n",
       "    <tr>\n",
       "      <th>2</th>\n",
       "      <td>2</td>\n",
       "      <td>C:/Python/PlayArea/speech-emotion-recognition-...</td>\n",
       "      <td>03-01-01-01-02-01-01.wav</td>\n",
       "      <td>Audio-Only</td>\n",
       "      <td>Speech</td>\n",
       "      <td>neutral</td>\n",
       "      <td>Normal</td>\n",
       "      <td>Dogs are sitting by the door</td>\n",
       "      <td>1st repetition</td>\n",
       "      <td>Male</td>\n",
       "    </tr>\n",
       "    <tr>\n",
       "      <th>3</th>\n",
       "      <td>3</td>\n",
       "      <td>C:/Python/PlayArea/speech-emotion-recognition-...</td>\n",
       "      <td>03-01-01-01-02-02-01.wav</td>\n",
       "      <td>Audio-Only</td>\n",
       "      <td>Speech</td>\n",
       "      <td>neutral</td>\n",
       "      <td>Normal</td>\n",
       "      <td>Dogs are sitting by the door</td>\n",
       "      <td>2nd repetition</td>\n",
       "      <td>Male</td>\n",
       "    </tr>\n",
       "    <tr>\n",
       "      <th>4</th>\n",
       "      <td>4</td>\n",
       "      <td>C:/Python/PlayArea/speech-emotion-recognition-...</td>\n",
       "      <td>03-01-02-01-01-01-01.wav</td>\n",
       "      <td>Audio-Only</td>\n",
       "      <td>Speech</td>\n",
       "      <td>calm</td>\n",
       "      <td>Normal</td>\n",
       "      <td>Kids are talking by the door</td>\n",
       "      <td>1st repetition</td>\n",
       "      <td>Male</td>\n",
       "    </tr>\n",
       "  </tbody>\n",
       "</table>\n",
       "</div>"
      ],
      "text/plain": [
       "   Unnamed: 0                                          File_Path  \\\n",
       "0           0  C:/Python/PlayArea/speech-emotion-recognition-...   \n",
       "1           1  C:/Python/PlayArea/speech-emotion-recognition-...   \n",
       "2           2  C:/Python/PlayArea/speech-emotion-recognition-...   \n",
       "3           3  C:/Python/PlayArea/speech-emotion-recognition-...   \n",
       "4           4  C:/Python/PlayArea/speech-emotion-recognition-...   \n",
       "\n",
       "                  File_Name    Modality Vocal_Channel Emotions  \\\n",
       "0  03-01-01-01-01-01-01.wav  Audio-Only        Speech  neutral   \n",
       "1  03-01-01-01-01-02-01.wav  Audio-Only        Speech  neutral   \n",
       "2  03-01-01-01-02-01-01.wav  Audio-Only        Speech  neutral   \n",
       "3  03-01-01-01-02-02-01.wav  Audio-Only        Speech  neutral   \n",
       "4  03-01-02-01-01-01-01.wav  Audio-Only        Speech     calm   \n",
       "\n",
       "  Emotional_Intensity                     Statement      Repetition Gender  \n",
       "0              Normal  Kids are talking by the door  1st repetition   Male  \n",
       "1              Normal  Kids are talking by the door  2nd repetition   Male  \n",
       "2              Normal  Dogs are sitting by the door  1st repetition   Male  \n",
       "3              Normal  Dogs are sitting by the door  2nd repetition   Male  \n",
       "4              Normal  Kids are talking by the door  1st repetition   Male  "
      ]
     },
     "execution_count": 4,
     "metadata": {},
     "output_type": "execute_result"
    }
   ],
   "source": [
    "speech_reader_selected.head()"
   ]
  },
  {
   "cell_type": "markdown",
   "metadata": {
    "id": "2I-CrCYdlbAo"
   },
   "source": [
    "Data Filtering. ( Removing Nuetral Emotions from the data )"
   ]
  },
  {
   "cell_type": "code",
   "execution_count": 5,
   "metadata": {
    "id": "df2Yp4-rlb5G"
   },
   "outputs": [],
   "source": [
    "speech_reader_selected =speech_reader_selected[speech_reader_selected['Emotions'] != 'neutral']"
   ]
  },
  {
   "cell_type": "code",
   "execution_count": 6,
   "metadata": {
    "id": "wAWAEvHVlf95"
   },
   "outputs": [
    {
     "data": {
      "text/plain": [
       "array(['calm', 'happy', 'sad', 'angry', 'fear', 'disgust', 'surprise'],\n",
       "      dtype=object)"
      ]
     },
     "execution_count": 6,
     "metadata": {},
     "output_type": "execute_result"
    }
   ],
   "source": [
    "speech_reader_selected['Emotions'].unique()"
   ]
  },
  {
   "cell_type": "markdown",
   "metadata": {
    "id": "jZf1zXCglnOX"
   },
   "source": [
    "Extracting mfccs , chroma, mel features and scaling them."
   ]
  },
  {
   "cell_type": "code",
   "execution_count": 7,
   "metadata": {
    "id": "fmmlcz1klnfc"
   },
   "outputs": [],
   "source": [
    "extracted_features=[]\n",
    "for index_num,row in speech_reader_selected.iterrows():\n",
    "    #print(row)\n",
    "    emotion = row['Emotions']\n",
    "    #observed_emotions=['sad', 'happy', 'fearful', 'disgust','angry','surprised','calm']\n",
    "    #observed_emotions=['surprised','fearful']\n",
    "    #if emotion not in observed_emotions:\n",
    "        #    continue\n",
    "    feature_result=np.array([])\n",
    "    file_name = row['File_Path'] + '/' + row['File_Name']\n",
    "    #print(file_name)\n",
    "    audio, sample_rate = librosa.load(file_name, res_type='kaiser_fast') \n",
    "    #we extract mfcc\n",
    "    mfccs_features = librosa.feature.mfcc(y=audio, sr=sample_rate, n_mfcc=40)\n",
    "    mfccs_scaled_features = np.mean(mfccs_features.T,axis=0)\n",
    "    feature_result = np.hstack((feature_result, mfccs_scaled_features))\n",
    "    #we extract chroma\n",
    "    stft=np.abs(librosa.stft(audio))\n",
    "    chroma_features = np.mean(librosa.feature.chroma_stft(S=stft, sr=sample_rate).T,axis=0)\n",
    "    feature_result = np.hstack((feature_result, chroma_features))\n",
    "    #we extract mel\n",
    "    mel_features = np.mean(librosa.feature.melspectrogram(audio, sr=sample_rate).T,axis=0)\n",
    "    #mel_features1.append(mel_features)\n",
    "    feature_result = np.hstack((feature_result, mel_features))\n",
    "    feature_result = feature_result.tolist()\n",
    "    #lable = row['Emotions']\n",
    "    lable = row['Gender'] + '_' + row['Emotions']\n",
    "    extracted_features.append([feature_result,lable])"
   ]
  },
  {
   "cell_type": "code",
   "execution_count": 8,
   "metadata": {
    "id": "sIu9d1Q6CH57"
   },
   "outputs": [],
   "source": [
    "extracted_features_df=pd.DataFrame(extracted_features,columns=['feature','class_lable'])"
   ]
  },
  {
   "cell_type": "code",
   "execution_count": 9,
   "metadata": {
    "id": "B992ejjHCKZd"
   },
   "outputs": [],
   "source": [
    "emotion_feature_scaled = pd.DataFrame(extracted_features_df['feature'].to_list())"
   ]
  },
  {
   "cell_type": "code",
   "execution_count": 10,
   "metadata": {
    "id": "LPUr9G1pCfEL"
   },
   "outputs": [],
   "source": [
    "features_scaled = emotion_feature_scaled\n",
    "mfcc_min = features_scaled.min().min()\n",
    "mfcc_max = features_scaled.max().max()\n",
    "# stack all features into a single series so we don't get a mean of means or stdev of stdevs\n",
    "mfcc_mean = features_scaled.stack().mean()\n",
    "mfcc_stdev = features_scaled.stack().std()"
   ]
  },
  {
   "cell_type": "code",
   "execution_count": 11,
   "metadata": {},
   "outputs": [
    {
     "name": "stdout",
     "output_type": "stream",
     "text": [
      "-867.0383911132812 162.28208923339844 45.2993895714376 -3.0140096537048437\n"
     ]
    }
   ],
   "source": [
    "print(mfcc_min , mfcc_max ,mfcc_stdev , mfcc_mean)"
   ]
  },
  {
   "cell_type": "code",
   "execution_count": 12,
   "metadata": {},
   "outputs": [],
   "source": [
    "from sklearn.preprocessing import StandardScaler\n",
    "from sklearn.preprocessing import MinMaxScaler\n",
    "\n",
    "scaler = StandardScaler()\n",
    "# keep our unscaled features just in case we need to process them alternatively\n",
    "features_scaled = emotion_feature_scaled\n",
    "features_scaled = scaler.fit_transform(features_scaled)\n",
    "\n",
    "scaler = MinMaxScaler()\n",
    "# keep our unscaled features just in case we need to process them alternatively\n",
    "features_minmax = emotion_feature_scaled\n",
    "features_minmax = scaler.fit_transform(features_minmax)"
   ]
  },
  {
   "cell_type": "code",
   "execution_count": 13,
   "metadata": {},
   "outputs": [],
   "source": [
    "features_scaled_df = pd.DataFrame(features_scaled)\n",
    "features_minmax_df = pd.DataFrame(features_minmax)"
   ]
  },
  {
   "cell_type": "code",
   "execution_count": 14,
   "metadata": {},
   "outputs": [],
   "source": [
    "# Check MFCC feature values\n",
    "features_scaled = features_scaled_df\n",
    "mfcc_min = features_scaled.min().min()\n",
    "mfcc_max = features_scaled.max().max()\n",
    "\n",
    "# stack all features into a single series so we don't get a mean of means or stdev of stdevs\n",
    "mfcc_mean = features_scaled.stack().mean()\n",
    "mfcc_stdev = features_scaled.stack().std()"
   ]
  },
  {
   "cell_type": "code",
   "execution_count": 15,
   "metadata": {},
   "outputs": [
    {
     "name": "stdout",
     "output_type": "stream",
     "text": [
      "-4.4014606540828565 35.40726889574532 1.0000020668053549 -1.690676758828683e-16\n"
     ]
    }
   ],
   "source": [
    "print(mfcc_min , mfcc_max ,mfcc_stdev , mfcc_mean)"
   ]
  },
  {
   "cell_type": "markdown",
   "metadata": {
    "id": "GPmQqdOvc2aY"
   },
   "source": [
    "Encoding the labels based on the emotion."
   ]
  },
  {
   "cell_type": "code",
   "execution_count": 16,
   "metadata": {
    "id": "-jhbKjcDM0xM"
   },
   "outputs": [
    {
     "data": {
      "text/plain": [
       "array([ 8, 11, 12,  7, 10,  9, 13,  1,  4,  5,  0,  3,  2,  6])"
      ]
     },
     "execution_count": 16,
     "metadata": {},
     "output_type": "execute_result"
    }
   ],
   "source": [
    "# Import label encoder\n",
    "from sklearn import preprocessing\n",
    "\n",
    "# label_encoder object knows how to understand word labels.\n",
    "label_encoder = preprocessing.LabelEncoder()\n",
    "\n",
    "# Encode labels in column 'species'.\n",
    "extracted_features_df['class_lable']= label_encoder.fit_transform(extracted_features_df['class_lable'])\n",
    "  \n",
    "extracted_features_df['class_lable'].unique()"
   ]
  },
  {
   "cell_type": "markdown",
   "metadata": {
    "id": "T2MxGputc8C5"
   },
   "source": [
    "### **Implementing model with MLP Classifier**"
   ]
  },
  {
   "cell_type": "code",
   "execution_count": 17,
   "metadata": {
    "id": "d9-xqU1FM3yI"
   },
   "outputs": [],
   "source": [
    "from sklearn.model_selection import train_test_split\n",
    "from sklearn.neural_network import MLPClassifier\n",
    "from sklearn.metrics import accuracy_score"
   ]
  },
  {
   "cell_type": "code",
   "execution_count": 18,
   "metadata": {
    "id": "2Mkut3-LM44q"
   },
   "outputs": [],
   "source": [
    "### Split the dataset into independent and dependent dataset\n",
    "X = np.asarray(extracted_features_df['feature'].tolist())\n",
    "y1 = np.asarray(extracted_features_df['class_lable'].tolist())\n",
    "X_Scale = np.asarray(features_scaled_df)\n",
    "X_minmax = np.asarray(features_minmax_df)"
   ]
  },
  {
   "cell_type": "markdown",
   "metadata": {
    "id": "tbHoj2whdJvK"
   },
   "source": [
    "Splitting the datasets by various scaling methods"
   ]
  },
  {
   "cell_type": "code",
   "execution_count": 19,
   "metadata": {
    "id": "ck9LIowWM8Dt"
   },
   "outputs": [],
   "source": [
    "#Split the dataset\n",
    "x_train,x_test,y_train,y_test=train_test_split(X,y1,test_size=0.2,random_state=0)\n",
    "\n",
    "#Split the dataset\n",
    "x_train_scale,x_test_scale,y_train_scale,y_test_scale=train_test_split(X_Scale,y1,test_size=0.2,random_state=0)\n",
    "\n",
    "#Split the dataset\n",
    "x_train_minmax,x_test_minmax,y_train_minmax,y_test_minmax=train_test_split(X_minmax,y1,test_size=0.2,random_state=0)"
   ]
  },
  {
   "cell_type": "code",
   "execution_count": 20,
   "metadata": {
    "id": "-ZNTL0_aM-k4"
   },
   "outputs": [],
   "source": [
    "#Initialize the Multi Layer Perceptron Classifier\n",
    "model=MLPClassifier(alpha=0.01, batch_size=256, epsilon=1e-08, hidden_layer_sizes=(300,), learning_rate='adaptive', max_iter=500)\n",
    "model_scale=MLPClassifier(alpha=0.01, batch_size=256, epsilon=1e-08, hidden_layer_sizes=(300,), learning_rate='adaptive', max_iter=500)\n",
    "model_minmax=MLPClassifier(alpha=0.01, batch_size=256, epsilon=1e-08, hidden_layer_sizes=(300,), learning_rate='adaptive', max_iter=500)"
   ]
  },
  {
   "cell_type": "code",
   "execution_count": 21,
   "metadata": {
    "id": "HV00XkwsdfGA"
   },
   "outputs": [
    {
     "data": {
      "text/plain": [
       "MLPClassifier(alpha=0.01, batch_size=256, hidden_layer_sizes=(300,),\n",
       "              learning_rate='adaptive', max_iter=500)"
      ]
     },
     "execution_count": 21,
     "metadata": {},
     "output_type": "execute_result"
    }
   ],
   "source": [
    "#Train the model\n",
    "model.fit(x_train,y_train)\n",
    "\n",
    "#Train the model\n",
    "model_scale.fit(x_train_scale,y_train_scale)\n",
    "\n",
    "#Train the model\n",
    "model_minmax.fit(x_train_minmax,y_train_minmax)"
   ]
  },
  {
   "cell_type": "code",
   "execution_count": 22,
   "metadata": {
    "id": "bWi-m0qGdkQm"
   },
   "outputs": [],
   "source": [
    "#Predict for the test set\n",
    "y_pred=model.predict(x_test)\n",
    "\n",
    "#Predict for the test set\n",
    "y_pred_scale=model_scale.predict(x_test_scale)\n",
    "\n",
    "#Predict for the test set\n",
    "y_pred_minmax=model_minmax.predict(x_test_minmax)"
   ]
  },
  {
   "cell_type": "code",
   "execution_count": 24,
   "metadata": {
    "id": "_Zt4b09pdlJ5"
   },
   "outputs": [
    {
     "name": "stdout",
     "output_type": "stream",
     "text": [
      "Accuracy with out scaling: 49.81%\n"
     ]
    }
   ],
   "source": [
    "#Calculate the accuracy of our model\n",
    "accuracy=accuracy_score(y_test, y_pred)\n",
    "\n",
    "#Print the accuracy\n",
    "print(\"Accuracy without scaling: {:.2f}%\".format(accuracy*100))"
   ]
  },
  {
   "cell_type": "code",
   "execution_count": 28,
   "metadata": {
    "id": "TZGax5KodoJM"
   },
   "outputs": [
    {
     "name": "stdout",
     "output_type": "stream",
     "text": [
      "Accuracy after standard deviation scaling: 71.38%\n"
     ]
    }
   ],
   "source": [
    "#Calculate the accuracy of our model\n",
    "accuracy_Scale=accuracy_score(y_true=y_test_scale, y_pred=y_pred_scale)\n",
    "\n",
    "#Print the accuracy\n",
    "print(\"Accuracy after standard deviation scaling: {:.2f}%\".format(accuracy_Scale*100))"
   ]
  },
  {
   "cell_type": "code",
   "execution_count": 29,
   "metadata": {
    "id": "Y0Od8rrtdqpC"
   },
   "outputs": [
    {
     "name": "stdout",
     "output_type": "stream",
     "text": [
      "Accuracy after MinMax Scaling: 67.66%\n"
     ]
    }
   ],
   "source": [
    "#Calculate the accuracy of our model\n",
    "accuracy_minmax=accuracy_score(y_true=y_test_minmax, y_pred=y_pred_minmax)\n",
    "\n",
    "#Print the accuracy\n",
    "print(\"Accuracy after MinMax Scaling: {:.2f}%\".format(accuracy_minmax*100))"
   ]
  },
  {
   "cell_type": "markdown",
   "metadata": {
    "id": "SfrwYtCBd08E"
   },
   "source": [
    "## understanding the outputs of the model using Confusion Matrix"
   ]
  },
  {
   "cell_type": "code",
   "execution_count": null,
   "metadata": {
    "id": "FbcYUADid3o5"
   },
   "outputs": [],
   "source": [
    "from sklearn.metrics import confusion_matrix, ConfusionMatrixDisplay\n",
    "\n",
    "# Create the confusion matrix\n",
    "confusion_matrix1 = confusion_matrix(y_test_scale, y_pred_scale)"
   ]
  },
  {
   "cell_type": "code",
   "execution_count": null,
   "metadata": {
    "id": "XcTjpjBAd8YU"
   },
   "outputs": [],
   "source": [
    "from sklearn.utils.multiclass import unique_labels\n",
    "df_cm = pd.DataFrame(confusion_matrix1, index = unique_labels(y_test_scale, y_pred_scale), columns = unique_labels(y_test_scale, y_pred_scale))\n",
    "fig, ax = plt.subplots(1, 1, figsize=(10,7))\n",
    "heatmap = sns.heatmap(df_cm, annot=True, ax=ax, fmt=\"d\")\n",
    "plt.ylabel('True label')\n",
    "plt.xlabel('Predicted label')\n",
    "plt.show()"
   ]
  },
  {
   "cell_type": "code",
   "execution_count": null,
   "metadata": {
    "id": "cehZ72npdthW"
   },
   "outputs": [],
   "source": []
  },
  {
   "cell_type": "markdown",
   "metadata": {
    "id": "PgvzrF28eJ28"
   },
   "source": [
    "### **Applying K Nearest Neighbor Algorithm**"
   ]
  },
  {
   "cell_type": "code",
   "execution_count": 31,
   "metadata": {
    "id": "2iLgUcCJePk7"
   },
   "outputs": [],
   "source": [
    "#importing KNN classifier and metric F1score\n",
    "from sklearn.neighbors import KNeighborsClassifier as KNN\n",
    "from sklearn.metrics import f1_score"
   ]
  },
  {
   "cell_type": "markdown",
   "metadata": {
    "id": "qodYTXJceZfU"
   },
   "source": [
    "Finding the ideal value of K using the Elbow Curve method."
   ]
  },
  {
   "cell_type": "code",
   "execution_count": 45,
   "metadata": {
    "id": "pdr5-_YQeWGw"
   },
   "outputs": [],
   "source": [
    "k = range(1, 10, 1)\n",
    "def Elbow(K):\n",
    "    #initiating empty list\n",
    "    test_error = []\n",
    "   \n",
    "    #training model for evey value of K\n",
    "    for i in K:\n",
    "        #Instance oh KNN\n",
    "        clf = KNN(n_neighbors = i)\n",
    "        clf.fit(x_train, y_train)\n",
    "        # Appending F1 scores to empty list claculated using the predictions\n",
    "        tmp = clf.predict(x_test)\n",
    "        tmp = f1_score(tmp,y_test, average='weighted')\n",
    "        error = 1-tmp\n",
    "        test_error.append(error)\n",
    "    \n",
    "    return test_error\n",
    "# calling above defined function\n",
    "test = Elbow(k)"
   ]
  },
  {
   "cell_type": "code",
   "execution_count": 46,
   "metadata": {
    "id": "FgndxTxifsjK"
   },
   "outputs": [
    {
     "data": {
      "text/plain": [
       "Text(0.5, 1.0, 'Elbow Curve for test')"
      ]
     },
     "execution_count": 46,
     "metadata": {},
     "output_type": "execute_result"
    },
    {
     "data": {
      "image/png": "[encoded data removed]",
      "text/plain": [
       "<Figure size 432x288 with 1 Axes>"
      ]
     },
     "metadata": {
      "needs_background": "light"
     },
     "output_type": "display_data"
    }
   ],
   "source": [
    "# plotting the Curves\n",
    "plt.plot(k, test)\n",
    "plt.xlabel('K Neighbors')\n",
    "plt.ylabel('Test error')\n",
    "plt.title('Elbow Curve for test')"
   ]
  },
  {
   "cell_type": "markdown",
   "metadata": {
    "id": "rGH7ApzHefZw"
   },
   "source": [
    "knn model"
   ]
  },
  {
   "cell_type": "code",
   "execution_count": 47,
   "metadata": {
    "id": "E_UR9O7ufxDi"
   },
   "outputs": [
    {
     "name": "stdout",
     "output_type": "stream",
     "text": [
      "Test F1 Score     range(1, 10)\n"
     ]
    }
   ],
   "source": [
    "# Creating instance of KNN\n",
    "clf = KNN(n_neighbors = 5)\n",
    "\n",
    "# Fitting the model\n",
    "clf.fit(x_train, y_train)\n",
    "\n",
    "# Predicting over the Train Set and calculating F1\n",
    "test_predict = clf.predict(x_test)\n",
    "y_pred_KNN = f1_score(test_predict, y_test, average='weighted')\n",
    "print('Test F1 Score    ', k )"
   ]
  },
  {
   "cell_type": "markdown",
   "metadata": {
    "id": "rBP-3C9jfyAw"
   },
   "source": [
    "### **Implementing Support Vector Machine on Various Kernels**"
   ]
  },
  {
   "cell_type": "code",
   "execution_count": 33,
   "metadata": {
    "id": "urULpyWzf93H"
   },
   "outputs": [
    {
     "name": "stdout",
     "output_type": "stream",
     "text": [
      "Test F1 Score     0.6319846809625065\n",
      "Test F1 Score after SD    0.17627118644067796\n",
      "Test F1 Score after MinMax    0.17627118644067796\n"
     ]
    }
   ],
   "source": [
    "from sklearn.svm import SVC  \n",
    "#kernel = []\n",
    "clf = SVC(kernel='linear') \n",
    "clf_sd = SVC(kernel='linear')\n",
    "clf_minmax = SVC(kernel='linear')\n",
    "  \n",
    "# fitting x samples and y classes \n",
    "clf.fit(x_train, y_train) \n",
    "clf_sd.fit(x_train_scale, y_train_scale) \n",
    "clf_minmax.fit(x_train_minmax, y_train_minmax) \n",
    "\n",
    "test_predict_slv = clf.predict(x_test)\n",
    "test_predict_slv_sd = clf.predict(x_test_scale)\n",
    "test_predict_slv_minmax = clf.predict(x_test_minmax)\n",
    "\n",
    "y_pred_SVC = f1_score(test_predict_slv, y_test, average='weighted')\n",
    "y_pred_SVC_sd = f1_score(test_predict_slv_sd, y_test_scale, average='weighted')\n",
    "y_pred_SVC_minmax = f1_score(test_predict_slv_minmax, y_test_minmax, average='weighted')\n",
    "\n",
    "print('Test F1 Score    ', y_pred_SVC )\n",
    "print('Test F1 Score after SD   ', y_pred_SVC_sd )\n",
    "print('Test F1 Score after MinMax   ', y_pred_SVC_minmax )"
   ]
  },
  {
   "cell_type": "code",
   "execution_count": 36,
   "metadata": {
    "id": "O5GTPvoJgCJb"
   },
   "outputs": [
    {
     "name": "stdout",
     "output_type": "stream",
     "text": [
      "Gaussian Naive Bayes model accuracy(in %): 30.855018587360593\n",
      "Gaussian Naive Bayes model accuracy(in %) after SD scaling: 11.524163568773234\n",
      "Gaussian Naive Bayes model accuracy(in %) after MinMax Scaling: 24.1635687732342\n"
     ]
    }
   ],
   "source": [
    "# training the model on training set\n",
    "from sklearn.naive_bayes import GaussianNB\n",
    "gnb = GaussianNB()\n",
    "gnb_sd = GaussianNB()\n",
    "gnb_minmax = GaussianNB()\n",
    "\n",
    "gnb.fit(x_train, y_train)\n",
    "gnb_sd.fit(x_train_scale, y_train_scale)\n",
    "gnb_minmax.fit(x_train_minmax, y_train_minmax)\n",
    "\n",
    "# making predictions on the testing set\n",
    "y_pred_NB = gnb.predict(x_test)\n",
    "y_pred_NB_sd = gnb.predict(x_test_scale)\n",
    "y_pred_NB_minmax = gnb.predict(x_test_minmax)\n",
    "\n",
    "# comparing actual response values (y_test) with predicted response values (y_pred)\n",
    "from sklearn import metrics\n",
    "print(\"Gaussian Naive Bayes model accuracy(in %):\", metrics.accuracy_score(y_test, y_pred_NB)*100)\n",
    "print(\"Gaussian Naive Bayes model accuracy(in %) after SD scaling:\", metrics.accuracy_score(y_test_scale, y_pred_NB_sd)*100)\n",
    "print(\"Gaussian Naive Bayes model accuracy(in %) after MinMax Scaling:\", metrics.accuracy_score(y_test_minmax, y_pred_NB_minmax)*100)"
   ]
  },
  {
   "cell_type": "code",
   "execution_count": null,
   "metadata": {
    "id": "zgVvDy1WgFov"
   },
   "outputs": [],
   "source": []
  },
  {
   "cell_type": "markdown",
   "metadata": {
    "id": "peRfGt4IgJpa"
   },
   "source": [
    "### **Applying Logistic Regression**"
   ]
  },
  {
   "cell_type": "code",
   "execution_count": 38,
   "metadata": {
    "id": "IHiP4cjpgTgc"
   },
   "outputs": [
    {
     "name": "stdout",
     "output_type": "stream",
     "text": [
      "Accuracy :  0.4795539033457249\n",
      "Accuracy after SD Scaling:  0.36059479553903345\n",
      "Accuracy after MinMax Scaling:  0.24907063197026022\n"
     ]
    }
   ],
   "source": [
    "#Logistic Regression\n",
    "from sklearn.linear_model import LogisticRegression\n",
    "classifier = LogisticRegression(random_state = 0)\n",
    "classifier_sd = LogisticRegression(random_state = 0)\n",
    "classifier_minmax = LogisticRegression(random_state = 0)\n",
    "\n",
    "classifier.fit(x_train, y_train)\n",
    "classifier_sd.fit(x_train_scale, y_train_scale)\n",
    "classifier_minmax.fit(x_train_minmax, y_train_minmax)\n",
    "\n",
    "y_pred_LR = classifier.predict(x_test)\n",
    "y_pred_LR_sd = classifier.predict(x_test_scale)\n",
    "y_pred_LR_minmax = classifier.predict(x_test_minmax)\n",
    "\n",
    "print (\"Accuracy : \", accuracy_score(y_test, y_pred_LR))\n",
    "print (\"Accuracy after SD Scaling: \", accuracy_score(y_test_scale, y_pred_LR_sd))\n",
    "print (\"Accuracy after MinMax Scaling: \", accuracy_score(y_test_minmax, y_pred_LR_minmax))"
   ]
  },
  {
   "cell_type": "markdown",
   "metadata": {
    "id": "jQB5pAJCgYao"
   },
   "source": [
    "### **Applying Decision Tree**"
   ]
  },
  {
   "cell_type": "code",
   "execution_count": 42,
   "metadata": {
    "id": "oEPgLVA5gU4-"
   },
   "outputs": [
    {
     "name": "stdout",
     "output_type": "stream",
     "text": [
      "Accuracy :  0.34944237918215615\n",
      "Accuracy with SD Scaling:  0.17843866171003717\n",
      "Accuracy with MinMax Scaling :  0.19330855018587362\n"
     ]
    }
   ],
   "source": [
    "from sklearn import tree\n",
    "# Defining the decision tree algorithm\n",
    "dtree=tree.DecisionTreeClassifier()\n",
    "dtree_sd=tree.DecisionTreeClassifier()\n",
    "dtree_minmax=tree.DecisionTreeClassifier()\n",
    "\n",
    "dtree.fit(x_train,y_train)\n",
    "dtree_sd.fit(x_train_scale,y_train_scale)\n",
    "dtree_minmax.fit(x_train_minmax,y_train_minmax)\n",
    "\n",
    "y_pred_DT = dtree.predict(x_test)\n",
    "y_pred_DT_sd = dtree.predict(x_test_scale)\n",
    "y_pred_DT_minmax = dtree.predict(x_test_minmax)\n",
    "\n",
    "print (\"Accuracy : \", accuracy_score(y_test, y_pred_DT))\n",
    "print (\"Accuracy with SD Scaling: \", accuracy_score(y_test_scale, y_pred_DT_sd))\n",
    "print (\"Accuracy with MinMax Scaling : \", accuracy_score(y_test_minmax, y_pred_DT_minmax))"
   ]
  },
  {
   "cell_type": "markdown",
   "metadata": {
    "id": "KY25UxH8ghKD"
   },
   "source": [
    "### **Applying Random Forest model**"
   ]
  },
  {
   "cell_type": "code",
   "execution_count": 41,
   "metadata": {
    "id": "Q3ofhnMJgk1B"
   },
   "outputs": [
    {
     "name": "stdout",
     "output_type": "stream",
     "text": [
      "ACCURACY OF THE MODEL:  0.6096654275092936\n",
      "ACCURACY OF THE MODEL after SD Scaling:  0.19330855018587362\n",
      "ACCURACY OF THE MODEL after MinMax Scaling:  0.32342007434944237\n"
     ]
    }
   ],
   "source": [
    "# importing random forest classifier from assemble module\n",
    "from sklearn.ensemble import RandomForestClassifier\n",
    "# creating a RF classifier\n",
    "clf = RandomForestClassifier(n_estimators = 100) \n",
    "clf_sd = RandomForestClassifier(n_estimators = 100) \n",
    "clf_minmax = RandomForestClassifier(n_estimators = 100) \n",
    " \n",
    "# Training the model on the training dataset\n",
    "# fit function is used to train the model using the training sets as parameters\n",
    "clf.fit(x_train, y_train)\n",
    "clf_sd.fit(x_train_scale, y_train_scale)\n",
    "clf_minmax.fit(x_train_minmax, y_train_minmax)\n",
    "\n",
    "# performing predictions on the test dataset\n",
    "y_pred_RFC = clf.predict(x_test)\n",
    "y_pred_RFC_sd = clf.predict(x_test_scale)\n",
    "y_pred_RFC_minmax = clf.predict(x_test_minmax)\n",
    "\n",
    "# using metrics module for accuracy calculation\n",
    "print(\"ACCURACY OF THE MODEL: \", metrics.accuracy_score(y_test, y_pred_RFC))\n",
    "print(\"ACCURACY OF THE MODEL after SD Scaling: \", metrics.accuracy_score(y_test_scale, y_pred_RFC_sd))\n",
    "print(\"ACCURACY OF THE MODEL after MinMax Scaling: \", metrics.accuracy_score(y_test_minmax, y_pred_RFC_minmax))"
   ]
  },
  {
   "cell_type": "markdown",
   "metadata": {
    "id": "tfywtTi6g4s9"
   },
   "source": [
    "## **Comparing all the Model Accuracies**"
   ]
  },
  {
   "cell_type": "code",
   "execution_count": 52,
   "metadata": {
    "id": "V5X7cV84gy2m"
   },
   "outputs": [],
   "source": [
    "modelname = ['KNN','SVM','Naive Bayes','Logistic Regression','Decision Tree','Random forest']\n",
    "Accuracy_model=[y_pred_KNN*100,y_pred_SVC*100,metrics.accuracy_score(y_test, y_pred_NB)*100,accuracy_score(y_test, y_pred_LR)*100,accuracy_score(y_test, y_pred_DT)*100,metrics.accuracy_score(y_test, y_pred_RFC)*100]\n",
    "Accuracy_model_sd=[y_pred_KNN*100,y_pred_SVC_sd*100,metrics.accuracy_score(y_test_scale, y_pred_NB_sd)*100,accuracy_score(y_test_scale, y_pred_LR_sd)*100,accuracy_score(y_test_scale, y_pred_DT_sd)*100,metrics.accuracy_score(y_test_scale, y_pred_RFC_sd)*100]\n",
    "Accuracy_model_minmax=[y_pred_KNN*100,y_pred_SVC_minmax*100,metrics.accuracy_score(y_test_minmax, y_pred_NB_minmax)*100,accuracy_score(y_test_minmax, y_pred_LR_minmax)*100,accuracy_score(y_test_minmax, y_pred_DT_minmax)*100,metrics.accuracy_score(y_test_minmax, y_pred_RFC_minmax)*100]"
   ]
  },
  {
   "cell_type": "code",
   "execution_count": 49,
   "metadata": {
    "id": "gNkXGEjog1hp"
   },
   "outputs": [
    {
     "data": {
      "text/html": [
       "<div>\n",
       "<style scoped>\n",
       "    .dataframe tbody tr th:only-of-type {\n",
       "        vertical-align: middle;\n",
       "    }\n",
       "\n",
       "    .dataframe tbody tr th {\n",
       "        vertical-align: top;\n",
       "    }\n",
       "\n",
       "    .dataframe thead th {\n",
       "        text-align: right;\n",
       "    }\n",
       "</style>\n",
       "<table border=\"1\" class=\"dataframe\">\n",
       "  <thead>\n",
       "    <tr style=\"text-align: right;\">\n",
       "      <th></th>\n",
       "      <th>0</th>\n",
       "      <th>1</th>\n",
       "      <th>2</th>\n",
       "      <th>3</th>\n",
       "      <th>4</th>\n",
       "      <th>5</th>\n",
       "    </tr>\n",
       "  </thead>\n",
       "  <tbody>\n",
       "    <tr>\n",
       "      <th>0</th>\n",
       "      <td>KNN</td>\n",
       "      <td>SVM</td>\n",
       "      <td>Naive Bayes</td>\n",
       "      <td>Logistic Regression</td>\n",
       "      <td>Decision Tree</td>\n",
       "      <td>Random forest</td>\n",
       "    </tr>\n",
       "    <tr>\n",
       "      <th>1</th>\n",
       "      <td>47.539998</td>\n",
       "      <td>63.198468</td>\n",
       "      <td>30.855019</td>\n",
       "      <td>47.95539</td>\n",
       "      <td>34.944238</td>\n",
       "      <td>60.966543</td>\n",
       "    </tr>\n",
       "  </tbody>\n",
       "</table>\n",
       "</div>"
      ],
      "text/plain": [
       "           0          1            2                    3              4  \\\n",
       "0        KNN        SVM  Naive Bayes  Logistic Regression  Decision Tree   \n",
       "1  47.539998  63.198468    30.855019             47.95539      34.944238   \n",
       "\n",
       "               5  \n",
       "0  Random forest  \n",
       "1      60.966543  "
      ]
     },
     "execution_count": 49,
     "metadata": {},
     "output_type": "execute_result"
    }
   ],
   "source": [
    "acc_df=pd.DataFrame([modelname,Accuracy_model])\n",
    "acc_df"
   ]
  },
  {
   "cell_type": "code",
   "execution_count": 51,
   "metadata": {},
   "outputs": [
    {
     "data": {
      "text/html": [
       "<div>\n",
       "<style scoped>\n",
       "    .dataframe tbody tr th:only-of-type {\n",
       "        vertical-align: middle;\n",
       "    }\n",
       "\n",
       "    .dataframe tbody tr th {\n",
       "        vertical-align: top;\n",
       "    }\n",
       "\n",
       "    .dataframe thead th {\n",
       "        text-align: right;\n",
       "    }\n",
       "</style>\n",
       "<table border=\"1\" class=\"dataframe\">\n",
       "  <thead>\n",
       "    <tr style=\"text-align: right;\">\n",
       "      <th></th>\n",
       "      <th>0</th>\n",
       "      <th>1</th>\n",
       "      <th>2</th>\n",
       "      <th>3</th>\n",
       "      <th>4</th>\n",
       "      <th>5</th>\n",
       "    </tr>\n",
       "  </thead>\n",
       "  <tbody>\n",
       "    <tr>\n",
       "      <th>0</th>\n",
       "      <td>KNN</td>\n",
       "      <td>SVM</td>\n",
       "      <td>Naive Bayes</td>\n",
       "      <td>Logistic Regression</td>\n",
       "      <td>Decision Tree</td>\n",
       "      <td>Random forest</td>\n",
       "    </tr>\n",
       "    <tr>\n",
       "      <th>1</th>\n",
       "      <td>47.539998</td>\n",
       "      <td>17.627119</td>\n",
       "      <td>11.524164</td>\n",
       "      <td>36.05948</td>\n",
       "      <td>17.843866</td>\n",
       "      <td>19.330855</td>\n",
       "    </tr>\n",
       "  </tbody>\n",
       "</table>\n",
       "</div>"
      ],
      "text/plain": [
       "           0          1            2                    3              4  \\\n",
       "0        KNN        SVM  Naive Bayes  Logistic Regression  Decision Tree   \n",
       "1  47.539998  17.627119    11.524164             36.05948      17.843866   \n",
       "\n",
       "               5  \n",
       "0  Random forest  \n",
       "1      19.330855  "
      ]
     },
     "execution_count": 51,
     "metadata": {},
     "output_type": "execute_result"
    }
   ],
   "source": [
    "acc_df_sd=pd.DataFrame([modelname,Accuracy_model_sd])\n",
    "acc_df_sd"
   ]
  },
  {
   "cell_type": "code",
   "execution_count": 53,
   "metadata": {},
   "outputs": [
    {
     "data": {
      "text/html": [
       "<div>\n",
       "<style scoped>\n",
       "    .dataframe tbody tr th:only-of-type {\n",
       "        vertical-align: middle;\n",
       "    }\n",
       "\n",
       "    .dataframe tbody tr th {\n",
       "        vertical-align: top;\n",
       "    }\n",
       "\n",
       "    .dataframe thead th {\n",
       "        text-align: right;\n",
       "    }\n",
       "</style>\n",
       "<table border=\"1\" class=\"dataframe\">\n",
       "  <thead>\n",
       "    <tr style=\"text-align: right;\">\n",
       "      <th></th>\n",
       "      <th>0</th>\n",
       "      <th>1</th>\n",
       "      <th>2</th>\n",
       "      <th>3</th>\n",
       "      <th>4</th>\n",
       "      <th>5</th>\n",
       "    </tr>\n",
       "  </thead>\n",
       "  <tbody>\n",
       "    <tr>\n",
       "      <th>0</th>\n",
       "      <td>KNN</td>\n",
       "      <td>SVM</td>\n",
       "      <td>Naive Bayes</td>\n",
       "      <td>Logistic Regression</td>\n",
       "      <td>Decision Tree</td>\n",
       "      <td>Random forest</td>\n",
       "    </tr>\n",
       "    <tr>\n",
       "      <th>1</th>\n",
       "      <td>47.539998</td>\n",
       "      <td>17.627119</td>\n",
       "      <td>24.163569</td>\n",
       "      <td>24.907063</td>\n",
       "      <td>19.330855</td>\n",
       "      <td>32.342007</td>\n",
       "    </tr>\n",
       "  </tbody>\n",
       "</table>\n",
       "</div>"
      ],
      "text/plain": [
       "           0          1            2                    3              4  \\\n",
       "0        KNN        SVM  Naive Bayes  Logistic Regression  Decision Tree   \n",
       "1  47.539998  17.627119    24.163569            24.907063      19.330855   \n",
       "\n",
       "               5  \n",
       "0  Random forest  \n",
       "1      32.342007  "
      ]
     },
     "execution_count": 53,
     "metadata": {},
     "output_type": "execute_result"
    }
   ],
   "source": [
    "acc_df_minmax=pd.DataFrame([modelname,Accuracy_model_minmax])\n",
    "acc_df_minmax"
   ]
  },
  {
   "cell_type": "code",
   "execution_count": null,
   "metadata": {},
   "outputs": [],
   "source": []
  },
  {
   "cell_type": "code",
   "execution_count": null,
   "metadata": {},
   "outputs": [],
   "source": []
  },
  {
   "cell_type": "code",
   "execution_count": 55,
   "metadata": {},
   "outputs": [],
   "source": [
    "from keras.models import Sequential\n",
    "from keras.layers import GlobalAveragePooling2D, Flatten, Dense, Dropout, BatchNormalization\n",
    "#from keras.optimizers import Adam\n",
    "from keras.callbacks import EarlyStopping, ModelCheckpoint, ReduceLROnPlateau\n",
    "from tensorflow.keras.applications import EfficientNetB3\n",
    "\n",
    "# I FEEL LIKE THE DROPOUT IS A BIT LARGE\n",
    "def create_model():\n",
    "    model = Sequential()\n",
    "    # initialize the model with input shape\n",
    "    model.add(\n",
    "        EfficientNetB3(\n",
    "            input_shape = (4), \n",
    "            include_top = False,\n",
    "            weights='imagenet',\n",
    "            drop_connect_rate=0.6,\n",
    "        )\n",
    "    )\n",
    "    model.add(GlobalAveragePooling2D())\n",
    "    model.add(Flatten())\n",
    "    model.add(Dense(256, activation='relu', bias_regularizer=tf.keras.regularizers.L1L2(l1=0.01, l2=0.001)))\n",
    "    model.add(Dropout(0.5))\n",
    "    model.add(Dense(no_of_classes))\n",
    "\n",
    "    return model"
   ]
  },
  {
   "cell_type": "code",
   "execution_count": null,
   "metadata": {},
   "outputs": [],
   "source": [
    "import tensorflow as tf\n",
    "model = tf.keras.models.Sequential([\n",
    "  tf.keras.layers.Flatten(),\n",
    "  tf.keras.layers.Dense(128, activation=tf.nn.relu),\n",
    "  tf.keras.layers.Dense(14, activation=tf.nn.softmax)\n",
    "])\n",
    "model.compile(optimizer='adam', loss='sparse_categorical_crossentropy', metrics=['accuracy'])\n",
    "model.fit(x_train, y_train, epochs=50)\n",
    "\n",
    "test_loss = model.evaluate(x_test, y_test)"
   ]
  }
 ],
 "metadata": {
  "colab": {
   "provenance": []
  },
  "kernelspec": {
   "display_name": "Python 3 (ipykernel)",
   "language": "python",
   "name": "python3"
  },
  "language_info": {
   "codemirror_mode": {
    "name": "ipython",
    "version": 3
   },
   "file_extension": ".py",
   "mimetype": "text/x-python",
   "name": "python",
   "nbconvert_exporter": "python",
   "pygments_lexer": "ipython3",
   "version": "3.9.12"
  }
 },
 "nbformat": 4,
 "nbformat_minor": 1
}
