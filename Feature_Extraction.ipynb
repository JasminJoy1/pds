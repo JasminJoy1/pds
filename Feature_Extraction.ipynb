{
 "cells": [
  {
   "cell_type": "code",
   "execution_count": 1,
   "id": "f0a8879b",
   "metadata": {},
   "outputs": [],
   "source": [
    "import pandas as pd\n",
    "import numpy as np\n",
    "import seaborn as sns\n",
    "import os\n",
    "import sys\n",
    "import matplotlib.pyplot as plt\n",
    "import librosa\n",
    "import librosa.display\n",
    "\n",
    "import warnings\n",
    "warnings.filterwarnings('ignore')"
   ]
  },
  {
   "cell_type": "code",
   "execution_count": 2,
   "id": "b80cc0b4",
   "metadata": {},
   "outputs": [],
   "source": [
    "speech_reader = pd.read_csv(\"C:/Python/PlayArea/speech-emotion-recognition-ravdess-data.csv\", delimiter=',')"
   ]
  },
  {
   "cell_type": "code",
   "execution_count": 3,
   "id": "4c5a2e3c",
   "metadata": {},
   "outputs": [],
   "source": [
    "speech_reader_selected=speech_reader.copy()"
   ]
  },
  {
   "cell_type": "code",
   "execution_count": 4,
   "id": "3188d5d9",
   "metadata": {
    "scrolled": true
   },
   "outputs": [
    {
     "data": {
      "text/html": [
       "<div>\n",
       "<style scoped>\n",
       "    .dataframe tbody tr th:only-of-type {\n",
       "        vertical-align: middle;\n",
       "    }\n",
       "\n",
       "    .dataframe tbody tr th {\n",
       "        vertical-align: top;\n",
       "    }\n",
       "\n",
       "    .dataframe thead th {\n",
       "        text-align: right;\n",
       "    }\n",
       "</style>\n",
       "<table border=\"1\" class=\"dataframe\">\n",
       "  <thead>\n",
       "    <tr style=\"text-align: right;\">\n",
       "      <th></th>\n",
       "      <th>Unnamed: 0</th>\n",
       "      <th>File_Path</th>\n",
       "      <th>File_Name</th>\n",
       "      <th>Modality</th>\n",
       "      <th>Vocal_Channel</th>\n",
       "      <th>Emotions</th>\n",
       "      <th>Emotional_Intensity</th>\n",
       "      <th>Statement</th>\n",
       "      <th>Repetition</th>\n",
       "      <th>Gender</th>\n",
       "    </tr>\n",
       "  </thead>\n",
       "  <tbody>\n",
       "    <tr>\n",
       "      <th>0</th>\n",
       "      <td>0</td>\n",
       "      <td>C:/Python/PlayArea/speech-emotion-recognition-...</td>\n",
       "      <td>03-01-01-01-01-01-01.wav</td>\n",
       "      <td>Audio-Only</td>\n",
       "      <td>Speech</td>\n",
       "      <td>neutral</td>\n",
       "      <td>Normal</td>\n",
       "      <td>Kids are talking by the door</td>\n",
       "      <td>1st repetition</td>\n",
       "      <td>Male</td>\n",
       "    </tr>\n",
       "    <tr>\n",
       "      <th>1</th>\n",
       "      <td>1</td>\n",
       "      <td>C:/Python/PlayArea/speech-emotion-recognition-...</td>\n",
       "      <td>03-01-01-01-01-02-01.wav</td>\n",
       "      <td>Audio-Only</td>\n",
       "      <td>Speech</td>\n",
       "      <td>neutral</td>\n",
       "      <td>Normal</td>\n",
       "      <td>Kids are talking by the door</td>\n",
       "      <td>2nd repetition</td>\n",
       "      <td>Male</td>\n",
       "    </tr>\n",
       "    <tr>\n",
       "      <th>2</th>\n",
       "      <td>2</td>\n",
       "      <td>C:/Python/PlayArea/speech-emotion-recognition-...</td>\n",
       "      <td>03-01-01-01-02-01-01.wav</td>\n",
       "      <td>Audio-Only</td>\n",
       "      <td>Speech</td>\n",
       "      <td>neutral</td>\n",
       "      <td>Normal</td>\n",
       "      <td>Dogs are sitting by the door</td>\n",
       "      <td>1st repetition</td>\n",
       "      <td>Male</td>\n",
       "    </tr>\n",
       "    <tr>\n",
       "      <th>3</th>\n",
       "      <td>3</td>\n",
       "      <td>C:/Python/PlayArea/speech-emotion-recognition-...</td>\n",
       "      <td>03-01-01-01-02-02-01.wav</td>\n",
       "      <td>Audio-Only</td>\n",
       "      <td>Speech</td>\n",
       "      <td>neutral</td>\n",
       "      <td>Normal</td>\n",
       "      <td>Dogs are sitting by the door</td>\n",
       "      <td>2nd repetition</td>\n",
       "      <td>Male</td>\n",
       "    </tr>\n",
       "    <tr>\n",
       "      <th>4</th>\n",
       "      <td>4</td>\n",
       "      <td>C:/Python/PlayArea/speech-emotion-recognition-...</td>\n",
       "      <td>03-01-02-01-01-01-01.wav</td>\n",
       "      <td>Audio-Only</td>\n",
       "      <td>Speech</td>\n",
       "      <td>calm</td>\n",
       "      <td>Normal</td>\n",
       "      <td>Kids are talking by the door</td>\n",
       "      <td>1st repetition</td>\n",
       "      <td>Male</td>\n",
       "    </tr>\n",
       "  </tbody>\n",
       "</table>\n",
       "</div>"
      ],
      "text/plain": [
       "   Unnamed: 0                                          File_Path  \\\n",
       "0           0  C:/Python/PlayArea/speech-emotion-recognition-...   \n",
       "1           1  C:/Python/PlayArea/speech-emotion-recognition-...   \n",
       "2           2  C:/Python/PlayArea/speech-emotion-recognition-...   \n",
       "3           3  C:/Python/PlayArea/speech-emotion-recognition-...   \n",
       "4           4  C:/Python/PlayArea/speech-emotion-recognition-...   \n",
       "\n",
       "                  File_Name    Modality Vocal_Channel Emotions  \\\n",
       "0  03-01-01-01-01-01-01.wav  Audio-Only        Speech  neutral   \n",
       "1  03-01-01-01-01-02-01.wav  Audio-Only        Speech  neutral   \n",
       "2  03-01-01-01-02-01-01.wav  Audio-Only        Speech  neutral   \n",
       "3  03-01-01-01-02-02-01.wav  Audio-Only        Speech  neutral   \n",
       "4  03-01-02-01-01-01-01.wav  Audio-Only        Speech     calm   \n",
       "\n",
       "  Emotional_Intensity                     Statement      Repetition Gender  \n",
       "0              Normal  Kids are talking by the door  1st repetition   Male  \n",
       "1              Normal  Kids are talking by the door  2nd repetition   Male  \n",
       "2              Normal  Dogs are sitting by the door  1st repetition   Male  \n",
       "3              Normal  Dogs are sitting by the door  2nd repetition   Male  \n",
       "4              Normal  Kids are talking by the door  1st repetition   Male  "
      ]
     },
     "execution_count": 4,
     "metadata": {},
     "output_type": "execute_result"
    }
   ],
   "source": [
    "speech_reader_selected.head()"
   ]
  },
  {
   "cell_type": "code",
   "execution_count": 5,
   "id": "941c3ee2",
   "metadata": {},
   "outputs": [],
   "source": [
    "speech_reader_selected =speech_reader_selected[speech_reader_selected['Emotions'] != 'neutral']"
   ]
  },
  {
   "cell_type": "code",
   "execution_count": 6,
   "id": "433a5c67",
   "metadata": {},
   "outputs": [
    {
     "data": {
      "text/plain": [
       "array(['calm', 'happy', 'sad', 'angry', 'fear', 'disgust', 'surprise'],\n",
       "      dtype=object)"
      ]
     },
     "execution_count": 6,
     "metadata": {},
     "output_type": "execute_result"
    }
   ],
   "source": [
    "speech_reader_selected['Emotions'].unique()"
   ]
  },
  {
   "cell_type": "code",
   "execution_count": 7,
   "id": "8cb2cfce",
   "metadata": {},
   "outputs": [],
   "source": [
    "extracted_features=[]\n",
    "\n",
    "for index_num,row in speech_reader_selected.iterrows():\n",
    "    #print(row)\n",
    "    emotion = row['Emotions']\n",
    "    #observed_emotions=['sad', 'happy', 'fearful', 'disgust','angry','surprised','calm']\n",
    "    #observed_emotions=['surprised','fearful']\n",
    "    #if emotion not in observed_emotions:\n",
    "        #    continue\n",
    "    feature_result=np.array([])\n",
    "    file_name = row['File_Path'] + '/' + row['File_Name']\n",
    "    #print(file_name)\n",
    "    audio, sample_rate = librosa.load(file_name, res_type='kaiser_fast') \n",
    "    #we extract mfcc\n",
    "    mfccs_features = librosa.feature.mfcc(y=audio, sr=sample_rate, n_mfcc=40)\n",
    "    mfccs_scaled_features = np.mean(mfccs_features.T,axis=0)\n",
    "    feature_result = np.hstack((feature_result, mfccs_scaled_features))\n",
    "    #we extract chroma\n",
    "    stft=np.abs(librosa.stft(audio))\n",
    "    chroma_features = np.mean(librosa.feature.chroma_stft(S=stft, sr=sample_rate).T,axis=0)\n",
    "    feature_result = np.hstack((feature_result, chroma_features))\n",
    "    #we extract mel\n",
    "    mel_features = np.mean(librosa.feature.melspectrogram(audio, sr=sample_rate).T,axis=0)\n",
    "    #mel_features1.append(mel_features)\n",
    "    feature_result = np.hstack((feature_result, mel_features))\n",
    "    feature_result = feature_result.tolist()\n",
    "    #lable = row['Emotions']\n",
    "    lable = row['Gender'] + '_' + row['Emotions']\n",
    "    extracted_features.append([feature_result,lable])"
   ]
  },
  {
   "cell_type": "code",
   "execution_count": 8,
   "id": "6b8c74c5",
   "metadata": {},
   "outputs": [],
   "source": [
    "#type(feature_result)"
   ]
  },
  {
   "cell_type": "code",
   "execution_count": 9,
   "id": "1fcf641b",
   "metadata": {},
   "outputs": [],
   "source": [
    "#extracted_features_df1=pd.DataFrame(extracted_features,columns=['feature','class_lable'])\n",
    "extracted_features_df=pd.DataFrame(extracted_features,columns=['feature','class_lable'])"
   ]
  },
  {
   "cell_type": "code",
   "execution_count": 10,
   "id": "e73e5a94",
   "metadata": {},
   "outputs": [],
   "source": [
    "emotion_feature_scaled = pd.DataFrame(extracted_features_df['feature'].to_list())"
   ]
  },
  {
   "cell_type": "code",
   "execution_count": 11,
   "id": "3395063c",
   "metadata": {},
   "outputs": [
    {
     "data": {
      "text/plain": [
       "(1344, 2)"
      ]
     },
     "execution_count": 11,
     "metadata": {},
     "output_type": "execute_result"
    }
   ],
   "source": [
    "extracted_features_df.shape"
   ]
  },
  {
   "cell_type": "code",
   "execution_count": 12,
   "id": "864a20ce",
   "metadata": {},
   "outputs": [],
   "source": [
    "# Check MFCC feature values\n",
    "features_scaled = emotion_feature_scaled\n",
    "mfcc_min = features_scaled.min().min()\n",
    "mfcc_max = features_scaled.max().max()\n",
    "# stack all features into a single series so we don't get a mean of means or stdev of stdevs\n",
    "mfcc_mean = features_scaled.stack().mean()\n",
    "mfcc_stdev = features_scaled.stack().std()"
   ]
  },
  {
   "cell_type": "code",
   "execution_count": 13,
   "id": "61d1d4b3",
   "metadata": {},
   "outputs": [
    {
     "name": "stdout",
     "output_type": "stream",
     "text": [
      "-867.0383911132812 162.28208923339844 45.2993895714376 -3.0140096537048437\n"
     ]
    }
   ],
   "source": [
    "print(mfcc_min , mfcc_max ,mfcc_stdev , mfcc_mean)"
   ]
  },
  {
   "cell_type": "code",
   "execution_count": 14,
   "id": "7eca9cd8",
   "metadata": {},
   "outputs": [],
   "source": [
    "from sklearn.preprocessing import StandardScaler\n",
    "from sklearn.preprocessing import MinMaxScaler\n",
    "\n",
    "scaler = StandardScaler()\n",
    "# keep our unscaled features just in case we need to process them alternatively\n",
    "features_scaled = emotion_feature_scaled\n",
    "features_scaled = scaler.fit_transform(features_scaled)\n",
    "\n",
    "scaler = MinMaxScaler()\n",
    "# keep our unscaled features just in case we need to process them alternatively\n",
    "features_minmax = emotion_feature_scaled\n",
    "features_minmax = scaler.fit_transform(features_minmax)"
   ]
  },
  {
   "cell_type": "code",
   "execution_count": 15,
   "id": "f619efc2",
   "metadata": {},
   "outputs": [],
   "source": [
    "features_scaled_df = pd.DataFrame(features_scaled)\n",
    "features_minmax_df = pd.DataFrame(features_minmax)"
   ]
  },
  {
   "cell_type": "code",
   "execution_count": 16,
   "id": "bea8ffb5",
   "metadata": {},
   "outputs": [],
   "source": [
    "# Check MFCC feature values\n",
    "features_scaled = features_scaled_df\n",
    "mfcc_min = features_scaled.min().min()\n",
    "mfcc_max = features_scaled.max().max()\n",
    "\n",
    "# stack all features into a single series so we don't get a mean of means or stdev of stdevs\n",
    "mfcc_mean = features_scaled.stack().mean()\n",
    "mfcc_stdev = features_scaled.stack().std()"
   ]
  },
  {
   "cell_type": "code",
   "execution_count": 17,
   "id": "eb563bb5",
   "metadata": {},
   "outputs": [
    {
     "name": "stdout",
     "output_type": "stream",
     "text": [
      "-4.4014606540828565 35.40726889574532 1.0000020668053549 -1.690676758828683e-16\n"
     ]
    }
   ],
   "source": [
    "print(mfcc_min , mfcc_max ,mfcc_stdev , mfcc_mean)"
   ]
  },
  {
   "cell_type": "code",
   "execution_count": 18,
   "id": "7cb78ddf",
   "metadata": {},
   "outputs": [
    {
     "data": {
      "text/plain": [
       "array([ 8, 11, 12,  7, 10,  9, 13,  1,  4,  5,  0,  3,  2,  6])"
      ]
     },
     "execution_count": 18,
     "metadata": {},
     "output_type": "execute_result"
    }
   ],
   "source": [
    "# Import label encoder\n",
    "from sklearn import preprocessing\n",
    "\n",
    "# label_encoder object knows how to understand word labels.\n",
    "label_encoder = preprocessing.LabelEncoder()\n",
    "\n",
    "# Encode labels in column 'species'.\n",
    "extracted_features_df['class_lable']= label_encoder.fit_transform(extracted_features_df['class_lable'])\n",
    "  \n",
    "extracted_features_df['class_lable'].unique()"
   ]
  },
  {
   "cell_type": "code",
   "execution_count": 19,
   "id": "fc8f4146",
   "metadata": {},
   "outputs": [],
   "source": [
    "from sklearn.model_selection import train_test_split\n",
    "from sklearn.neural_network import MLPClassifier\n",
    "from sklearn.metrics import accuracy_score"
   ]
  },
  {
   "cell_type": "code",
   "execution_count": 20,
   "id": "20b970c5",
   "metadata": {},
   "outputs": [],
   "source": [
    "### Split the dataset into independent and dependent dataset\n",
    "X = np.asarray(extracted_features_df['feature'].tolist())\n",
    "y1 = np.asarray(extracted_features_df['class_lable'].tolist())\n",
    "X_Scale = np.asarray(features_scaled_df)\n",
    "X_minmax = np.asarray(features_minmax_df)"
   ]
  },
  {
   "cell_type": "code",
   "execution_count": 21,
   "id": "0841b893",
   "metadata": {},
   "outputs": [],
   "source": [
    "#Split the dataset\n",
    "x_train,x_test,y_train,y_test=train_test_split(X,y1,test_size=0.2,random_state=0)\n",
    "\n",
    "#Split the dataset\n",
    "x_train_scale,x_test_scale,y_train_scale,y_test_scale=train_test_split(X_Scale,y1,test_size=0.2,random_state=0)\n",
    "\n",
    "#Split the dataset\n",
    "x_train_minmax,x_test_minmax,y_train_minmax,y_test_minmax=train_test_split(X_minmax,y1,test_size=0.2,random_state=0)"
   ]
  },
  {
   "cell_type": "code",
   "execution_count": 22,
   "id": "986de369",
   "metadata": {},
   "outputs": [
    {
     "name": "stdout",
     "output_type": "stream",
     "text": [
      "Features extracted: 180\n"
     ]
    }
   ],
   "source": [
    "#Get the number of features extracted\n",
    "print(f'Features extracted: {x_train.shape[1]}')"
   ]
  },
  {
   "cell_type": "code",
   "execution_count": 23,
   "id": "ecadedf9",
   "metadata": {},
   "outputs": [
    {
     "name": "stdout",
     "output_type": "stream",
     "text": [
      "Features extracted: 180\n"
     ]
    }
   ],
   "source": [
    "#Get the number of features extracted\n",
    "print(f'Features extracted: {x_train_scale.shape[1]}')"
   ]
  },
  {
   "cell_type": "code",
   "execution_count": 24,
   "id": "e7601eba",
   "metadata": {},
   "outputs": [],
   "source": [
    "#Initialize the Multi Layer Perceptron Classifier\n",
    "model=MLPClassifier(alpha=0.01, batch_size=256, epsilon=1e-08, hidden_layer_sizes=(300,), learning_rate='adaptive', max_iter=500)\n",
    "model_scale=MLPClassifier(alpha=0.01, batch_size=256, epsilon=1e-08, hidden_layer_sizes=(300,), learning_rate='adaptive', max_iter=500)\n",
    "model_minmax=MLPClassifier(alpha=0.01, batch_size=256, epsilon=1e-08, hidden_layer_sizes=(300,), learning_rate='adaptive', max_iter=500)"
   ]
  },
  {
   "cell_type": "code",
   "execution_count": 25,
   "id": "f6eac548",
   "metadata": {},
   "outputs": [
    {
     "data": {
      "text/plain": [
       "MLPClassifier(alpha=0.01, batch_size=256, hidden_layer_sizes=(300,),\n",
       "              learning_rate='adaptive', max_iter=500)"
      ]
     },
     "execution_count": 25,
     "metadata": {},
     "output_type": "execute_result"
    }
   ],
   "source": [
    "#Train the model\n",
    "model.fit(x_train,y_train)\n",
    "\n",
    "#Train the model\n",
    "model_scale.fit(x_train_scale,y_train_scale)\n",
    "\n",
    "#Train the model\n",
    "model_minmax.fit(x_train_minmax,y_train_minmax)"
   ]
  },
  {
   "cell_type": "code",
   "execution_count": 26,
   "id": "a779eed2",
   "metadata": {},
   "outputs": [],
   "source": [
    "#Predict for the test set\n",
    "y_pred=model.predict(x_test)\n",
    "\n",
    "#Predict for the test set\n",
    "y_pred_scale=model_scale.predict(x_test_scale)\n",
    "\n",
    "#Predict for the test set\n",
    "y_pred_minmax=model_minmax.predict(x_test_minmax)"
   ]
  },
  {
   "cell_type": "code",
   "execution_count": 27,
   "id": "28860ded",
   "metadata": {},
   "outputs": [
    {
     "name": "stdout",
     "output_type": "stream",
     "text": [
      "Accuracy: 55.76%\n"
     ]
    }
   ],
   "source": [
    "#Calculate the accuracy of our model\n",
    "accuracy=accuracy_score(y_test, y_pred)\n",
    "\n",
    "#Print the accuracy\n",
    "print(\"Accuracy: {:.2f}%\".format(accuracy*100))"
   ]
  },
  {
   "cell_type": "code",
   "execution_count": 28,
   "id": "98bc67a7",
   "metadata": {},
   "outputs": [
    {
     "name": "stdout",
     "output_type": "stream",
     "text": [
      "Accuracy: 74.35%\n"
     ]
    }
   ],
   "source": [
    "#Calculate the accuracy of our model\n",
    "accuracy=accuracy_score(y_true=y_test_scale, y_pred=y_pred_scale)\n",
    "\n",
    "#Print the accuracy\n",
    "print(\"Accuracy: {:.2f}%\".format(accuracy*100))"
   ]
  },
  {
   "cell_type": "code",
   "execution_count": 29,
   "id": "9907d9f3",
   "metadata": {},
   "outputs": [
    {
     "name": "stdout",
     "output_type": "stream",
     "text": [
      "Accuracy: 68.77%\n"
     ]
    }
   ],
   "source": [
    "#Calculate the accuracy of our model\n",
    "accuracy=accuracy_score(y_true=y_test_minmax, y_pred=y_pred_minmax)\n",
    "\n",
    "#Print the accuracy\n",
    "print(\"Accuracy: {:.2f}%\".format(accuracy*100))"
   ]
  },
  {
   "cell_type": "code",
   "execution_count": 30,
   "id": "0e47c451",
   "metadata": {},
   "outputs": [],
   "source": [
    "from sklearn.metrics import confusion_matrix, ConfusionMatrixDisplay\n",
    "\n",
    "# Create the confusion matrix\n",
    "confusion_matrix1 = confusion_matrix(y_test_scale, y_pred_scale)\n",
    "#confusion_matrix(y_test, y_pred)\n",
    "#disp = ConfusionMatrixDisplay(confusion_matrix=confusion_matrix1, display_labels=model.classes_)\n",
    "#disp.plot()"
   ]
  },
  {
   "cell_type": "code",
   "execution_count": 31,
   "id": "cd8cd7af",
   "metadata": {},
   "outputs": [
    {
     "data": {
      "image/png": "[encoded data removed]",
      "text/plain": [
       "<Figure size 720x504 with 2 Axes>"
      ]
     },
     "metadata": {
      "needs_background": "light"
     },
     "output_type": "display_data"
    }
   ],
   "source": [
    "from sklearn.utils.multiclass import unique_labels\n",
    "df_cm = pd.DataFrame(confusion_matrix1, index = unique_labels(y_test_scale, y_pred_scale), columns = unique_labels(y_test_scale, y_pred_scale))\n",
    "fig, ax = plt.subplots(1, 1, figsize=(10,7))\n",
    "heatmap = sns.heatmap(df_cm, annot=True, ax=ax, fmt=\"d\")\n",
    "plt.ylabel('True label')\n",
    "plt.xlabel('Predicted label')\n",
    "plt.show()"
   ]
  },
  {
   "cell_type": "code",
   "execution_count": 32,
   "id": "7911c6fa",
   "metadata": {},
   "outputs": [],
   "source": [
    "actual=y_test\n",
    "actual = pd.DataFrame({'actualvalues': actual})"
   ]
  },
  {
   "cell_type": "code",
   "execution_count": 33,
   "id": "c1227757",
   "metadata": {},
   "outputs": [],
   "source": [
    "#importing KNN classifier and metric F1score\n",
    "from sklearn.neighbors import KNeighborsClassifier as KNN\n",
    "from sklearn.metrics import f1_score"
   ]
  },
  {
   "cell_type": "code",
   "execution_count": 34,
   "id": "9a06e0cc",
   "metadata": {},
   "outputs": [],
   "source": [
    "#Defining K range\n",
    "k = range(1, 10, 1)"
   ]
  },
  {
   "cell_type": "code",
   "execution_count": 35,
   "id": "5e880e16",
   "metadata": {},
   "outputs": [],
   "source": [
    "def Elbow(K):\n",
    "    #initiating empty list\n",
    "    test_error = []\n",
    "   \n",
    "    #training model for evey value of K\n",
    "    for i in K:\n",
    "        #Instance oh KNN\n",
    "        clf = KNN(n_neighbors = i)\n",
    "        clf.fit(x_train, y_train)\n",
    "        # Appending F1 scores to empty list claculated using the predictions\n",
    "        tmp = clf.predict(x_test)\n",
    "        tmp = f1_score(tmp,y_test, average='weighted')\n",
    "        error = 1-tmp\n",
    "        test_error.append(error)\n",
    "    \n",
    "    return test_error"
   ]
  },
  {
   "cell_type": "code",
   "execution_count": 36,
   "id": "2432ec51",
   "metadata": {},
   "outputs": [],
   "source": [
    "# calling above defined function\n",
    "test = Elbow(k)"
   ]
  },
  {
   "cell_type": "code",
   "execution_count": 37,
   "id": "a3ef3e73",
   "metadata": {},
   "outputs": [
    {
     "data": {
      "text/plain": [
       "Text(0.5, 1.0, 'Elbow Curve for test')"
      ]
     },
     "execution_count": 37,
     "metadata": {},
     "output_type": "execute_result"
    },
    {
     "data": {
      "image/png": "[encoded data removed]",
      "text/plain": [
       "<Figure size 432x288 with 1 Axes>"
      ]
     },
     "metadata": {
      "needs_background": "light"
     },
     "output_type": "display_data"
    }
   ],
   "source": [
    "# plotting the Curves\n",
    "plt.plot(k, test)\n",
    "plt.xlabel('K Neighbors')\n",
    "plt.ylabel('Test error')\n",
    "plt.title('Elbow Curve for test')"
   ]
  },
  {
   "cell_type": "code",
   "execution_count": 38,
   "id": "31fc6761",
   "metadata": {},
   "outputs": [
    {
     "name": "stdout",
     "output_type": "stream",
     "text": [
      "Test F1 Score     range(1, 10)\n"
     ]
    }
   ],
   "source": [
    "# Creating instance of KNN\n",
    "clf = KNN(n_neighbors = 5)\n",
    "\n",
    "# Fitting the model\n",
    "clf.fit(x_train, y_train)\n",
    "\n",
    "# Predicting over the Train Set and calculating F1\n",
    "test_predict = clf.predict(x_test)\n",
    "y_pred_KNN = f1_score(test_predict, y_test, average='weighted')\n",
    "print('Test F1 Score    ', k )"
   ]
  },
  {
   "cell_type": "code",
   "execution_count": 39,
   "id": "c546d651",
   "metadata": {},
   "outputs": [],
   "source": [
    "#SVM"
   ]
  },
  {
   "cell_type": "code",
   "execution_count": 40,
   "id": "5a0eefa7",
   "metadata": {},
   "outputs": [
    {
     "name": "stdout",
     "output_type": "stream",
     "text": [
      "Test F1 Score     0.6319846809625065\n"
     ]
    }
   ],
   "source": [
    "# import support vector classifier \n",
    "# \"Support Vector Classifier\"\n",
    "from sklearn.svm import SVC  \n",
    "#kernel = []\n",
    "clf = SVC(kernel='linear') \n",
    "  \n",
    "# fitting x samples and y classes \n",
    "clf.fit(x_train, y_train) \n",
    "\n",
    "test_predict_slv = clf.predict(x_test)\n",
    "y_pred_SVC = f1_score(test_predict_slv, y_test, average='weighted')\n",
    "print('Test F1 Score    ', y_pred_SVC )"
   ]
  },
  {
   "cell_type": "code",
   "execution_count": 41,
   "id": "bfa10c47",
   "metadata": {},
   "outputs": [
    {
     "name": "stdout",
     "output_type": "stream",
     "text": [
      "Gaussian Naive Bayes model accuracy(in %): 30.855018587360593\n"
     ]
    }
   ],
   "source": [
    "# training the model on training set\n",
    "from sklearn.naive_bayes import GaussianNB\n",
    "gnb = GaussianNB()\n",
    "gnb.fit(x_train, y_train)\n",
    "\n",
    "# making predictions on the testing set\n",
    "y_pred_NB = gnb.predict(x_test)\n",
    "\n",
    "# comparing actual response values (y_test) with predicted response values (y_pred)\n",
    "from sklearn import metrics\n",
    "print(\"Gaussian Naive Bayes model accuracy(in %):\", metrics.accuracy_score(y_test, y_pred_NB)*100)"
   ]
  },
  {
   "cell_type": "code",
   "execution_count": 42,
   "id": "2fe5b3e5",
   "metadata": {},
   "outputs": [
    {
     "name": "stdout",
     "output_type": "stream",
     "text": [
      "Accuracy :  0.4795539033457249\n"
     ]
    }
   ],
   "source": [
    "#Logistic Regression\n",
    "from sklearn.linear_model import LogisticRegression\n",
    "classifier = LogisticRegression(random_state = 0)\n",
    "classifier.fit(x_train, y_train)\n",
    "\n",
    "y_pred_LR = classifier.predict(x_test)\n",
    "\n",
    "print (\"Accuracy : \", accuracy_score(y_test, y_pred_LR))"
   ]
  },
  {
   "cell_type": "code",
   "execution_count": 43,
   "id": "8dba7bd4",
   "metadata": {},
   "outputs": [
    {
     "name": "stdout",
     "output_type": "stream",
     "text": [
      "Accuracy :  0.40148698884758366\n"
     ]
    }
   ],
   "source": [
    "from sklearn import tree\n",
    "# Defining the decision tree algorithm\n",
    "dtree=tree.DecisionTreeClassifier()\n",
    "dtree.fit(x_train,y_train)\n",
    "\n",
    "y_pred_DT = dtree.predict(x_test)\n",
    "\n",
    "print (\"Accuracy : \", accuracy_score(y_test, y_pred_DT))"
   ]
  },
  {
   "cell_type": "code",
   "execution_count": 44,
   "id": "0a9a2456",
   "metadata": {},
   "outputs": [
    {
     "name": "stdout",
     "output_type": "stream",
     "text": [
      "ACCURACY OF THE MODEL:  0.5910780669144982\n"
     ]
    }
   ],
   "source": [
    "# importing random forest classifier from assemble module\n",
    "from sklearn.ensemble import RandomForestClassifier\n",
    "# creating a RF classifier\n",
    "clf = RandomForestClassifier(n_estimators = 100) \n",
    " \n",
    "# Training the model on the training dataset\n",
    "# fit function is used to train the model using the training sets as parameters\n",
    "clf.fit(x_train, y_train)\n",
    "\n",
    "# performing predictions on the test dataset\n",
    "y_pred_RFC = clf.predict(x_test)\n",
    "\n",
    "# using metrics module for accuracy calculation\n",
    "print(\"ACCURACY OF THE MODEL: \", metrics.accuracy_score(y_test, y_pred_RFC))"
   ]
  },
  {
   "cell_type": "code",
   "execution_count": 45,
   "id": "542ac289",
   "metadata": {},
   "outputs": [],
   "source": [
    "modelname = ['KNN','SVM','Naive Bayes','Logistic Regression','Decision Tree','Random forest']\n",
    "Accuracy_model=[y_pred_KNN*100,y_pred_SVC*100,metrics.accuracy_score(y_test, y_pred_NB)*100,accuracy_score(y_test, y_pred_LR)*100,accuracy_score(y_test, y_pred_DT)*100,metrics.accuracy_score(y_test, y_pred_RFC)*100]"
   ]
  },
  {
   "cell_type": "code",
   "execution_count": 46,
   "id": "94ecb658",
   "metadata": {},
   "outputs": [
    {
     "data": {
      "text/html": [
       "<div>\n",
       "<style scoped>\n",
       "    .dataframe tbody tr th:only-of-type {\n",
       "        vertical-align: middle;\n",
       "    }\n",
       "\n",
       "    .dataframe tbody tr th {\n",
       "        vertical-align: top;\n",
       "    }\n",
       "\n",
       "    .dataframe thead th {\n",
       "        text-align: right;\n",
       "    }\n",
       "</style>\n",
       "<table border=\"1\" class=\"dataframe\">\n",
       "  <thead>\n",
       "    <tr style=\"text-align: right;\">\n",
       "      <th></th>\n",
       "      <th>0</th>\n",
       "      <th>1</th>\n",
       "      <th>2</th>\n",
       "      <th>3</th>\n",
       "      <th>4</th>\n",
       "      <th>5</th>\n",
       "    </tr>\n",
       "  </thead>\n",
       "  <tbody>\n",
       "    <tr>\n",
       "      <th>0</th>\n",
       "      <td>KNN</td>\n",
       "      <td>SVM</td>\n",
       "      <td>Naive Bayes</td>\n",
       "      <td>Logistic Regression</td>\n",
       "      <td>Decision Tree</td>\n",
       "      <td>Random forest</td>\n",
       "    </tr>\n",
       "    <tr>\n",
       "      <th>1</th>\n",
       "      <td>47.539998</td>\n",
       "      <td>63.198468</td>\n",
       "      <td>30.855019</td>\n",
       "      <td>47.95539</td>\n",
       "      <td>40.148699</td>\n",
       "      <td>59.107807</td>\n",
       "    </tr>\n",
       "  </tbody>\n",
       "</table>\n",
       "</div>"
      ],
      "text/plain": [
       "           0          1            2                    3              4  \\\n",
       "0        KNN        SVM  Naive Bayes  Logistic Regression  Decision Tree   \n",
       "1  47.539998  63.198468    30.855019             47.95539      40.148699   \n",
       "\n",
       "               5  \n",
       "0  Random forest  \n",
       "1      59.107807  "
      ]
     },
     "execution_count": 46,
     "metadata": {},
     "output_type": "execute_result"
    }
   ],
   "source": [
    "acc_df=pd.DataFrame([modelname,Accuracy_model])\n",
    "acc_df"
   ]
  },
  {
   "cell_type": "code",
   "execution_count": 47,
   "id": "52fe3b4a",
   "metadata": {},
   "outputs": [],
   "source": [
    "#"
   ]
  }
 ],
 "metadata": {
  "kernelspec": {
   "display_name": "Python 3 (ipykernel)",
   "language": "python",
   "name": "python3"
  },
  "language_info": {
   "codemirror_mode": {
    "name": "ipython",
    "version": 3
   },
   "file_extension": ".py",
   "mimetype": "text/x-python",
   "name": "python",
   "nbconvert_exporter": "python",
   "pygments_lexer": "ipython3",
   "version": "3.9.12"
  }
 },
 "nbformat": 4,
 "nbformat_minor": 5
}
