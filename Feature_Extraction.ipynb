{
 "cells": [
  {
   "cell_type": "code",
   "execution_count": 1,
   "id": "f0a8879b",
   "metadata": {},
   "outputs": [],
   "source": [
    "import pandas as pd\n",
    "import numpy as np\n",
    "import seaborn as sns\n",
    "import os\n",
    "import sys\n",
    "import matplotlib.pyplot as plt\n",
    "import librosa\n",
    "import librosa.display\n",
    "\n",
    "import warnings\n",
    "warnings.filterwarnings('ignore')"
   ]
  },
  {
   "cell_type": "code",
   "execution_count": 2,
   "id": "b80cc0b4",
   "metadata": {},
   "outputs": [],
   "source": [
    "speech_reader = pd.read_csv(\"C:/Python/PlayArea/speech-emotion-recognition-ravdess-data.csv\", delimiter=',')"
   ]
  },
  {
   "cell_type": "code",
   "execution_count": 4,
   "id": "8cb2cfce",
   "metadata": {},
   "outputs": [],
   "source": [
    "extracted_features=[]\n",
    "\n",
    "for index_num,row in speech_reader.iterrows():\n",
    "    #print(row)\n",
    "    emotion = row['Emotions']\n",
    "    observed_emotions=['sad', 'happy', 'fearful', 'disgust','angry','surprised','calm']\n",
    "    #observed_emotions=['sad']\n",
    "    if emotion not in observed_emotions:\n",
    "            continue\n",
    "    feature_result=np.array([])\n",
    "    file_name = row['File_Path'] + '/' + row['File_Name']\n",
    "    #print(file_name)\n",
    "    audio, sample_rate = librosa.load(file_name, res_type='kaiser_fast') \n",
    "    #we extract mfcc\n",
    "    mfccs_features = librosa.feature.mfcc(y=audio, sr=sample_rate, n_mfcc=40)\n",
    "    mfccs_scaled_features = np.mean(mfccs_features.T,axis=0)\n",
    "    feature_result = np.hstack((feature_result, mfccs_scaled_features))\n",
    "    #we extract chroma\n",
    "    stft=np.abs(librosa.stft(audio))\n",
    "    chroma_features = np.mean(librosa.feature.chroma_stft(S=stft, sr=sample_rate).T,axis=0)\n",
    "    feature_result = np.hstack((feature_result, chroma_features))\n",
    "    #we extract mel\n",
    "    mel_features = np.mean(librosa.feature.melspectrogram(audio, sr=sample_rate).T,axis=0)\n",
    "    #mel_features1.append(mel_features)\n",
    "    feature_result = np.hstack((feature_result, mel_features))\n",
    "    feature_result = feature_result.tolist()\n",
    "    lable = row['Gender'] + '_' + row['Emotions']\n",
    "    extracted_features.append([feature_result,lable])"
   ]
  },
  {
   "cell_type": "code",
   "execution_count": null,
   "id": "1fcf641b",
   "metadata": {},
   "outputs": [],
   "source": [
    "#extracted_features_df1=pd.DataFrame(extracted_features,columns=['feature','class_lable'])\n",
    "extracted_features_df=pd.DataFrame(extracted_features,columns=['feature','class_lable'])"
   ]
  },
  {
   "cell_type": "code",
   "execution_count": null,
   "id": "0a29b02f",
   "metadata": {},
   "outputs": [],
   "source": [
    "extracted_features_df"
   ]
  },
  {
   "cell_type": "code",
   "execution_count": null,
   "id": "aa48bfa0",
   "metadata": {},
   "outputs": [],
   "source": [
    "extracted_features_df.shape"
   ]
  },
  {
   "cell_type": "code",
   "execution_count": null,
   "id": "fc8f4146",
   "metadata": {},
   "outputs": [],
   "source": [
    "from sklearn.model_selection import train_test_split\n",
    "from sklearn.neural_network import MLPClassifier\n",
    "from sklearn.metrics import accuracy_score"
   ]
  },
  {
   "cell_type": "code",
   "execution_count": null,
   "id": "20b970c5",
   "metadata": {},
   "outputs": [],
   "source": [
    "### Split the dataset into independent and dependent dataset\n",
    "X = np.asarray(extracted_features_df['feature'].tolist())\n",
    "y1 = np.asarray(extracted_features_df['class_lable'].tolist())"
   ]
  },
  {
   "cell_type": "code",
   "execution_count": null,
   "id": "0841b893",
   "metadata": {},
   "outputs": [],
   "source": [
    "#DataFlair - Split the dataset\n",
    "x_train,x_test,y_train,y_test=train_test_split(X,y1,test_size=0.2,random_state=0)"
   ]
  },
  {
   "cell_type": "code",
   "execution_count": null,
   "id": "9f751132",
   "metadata": {},
   "outputs": [],
   "source": [
    "print({x_train.shape[0] , x_test.shape[0], x_train.shape[0] + x_test.shape[0] })"
   ]
  },
  {
   "cell_type": "code",
   "execution_count": null,
   "id": "986de369",
   "metadata": {},
   "outputs": [],
   "source": [
    "#DataFlair - Get the number of features extracted\n",
    "print(f'Features extracted: {x_train.shape[1]}')"
   ]
  },
  {
   "cell_type": "code",
   "execution_count": null,
   "id": "e7601eba",
   "metadata": {},
   "outputs": [],
   "source": [
    "#DataFlair - Initialize the Multi Layer Perceptron Classifier\n",
    "model=MLPClassifier(alpha=0.01, batch_size=256, epsilon=1e-08, hidden_layer_sizes=(300,), learning_rate='adaptive', max_iter=500)"
   ]
  },
  {
   "cell_type": "code",
   "execution_count": null,
   "id": "f6eac548",
   "metadata": {},
   "outputs": [],
   "source": [
    "#DataFlair - Train the model\n",
    "model.fit(x_train,y_train)"
   ]
  },
  {
   "cell_type": "code",
   "execution_count": null,
   "id": "a779eed2",
   "metadata": {},
   "outputs": [],
   "source": [
    "#DataFlair - Predict for the test set\n",
    "y_pred=model.predict(x_test)"
   ]
  },
  {
   "cell_type": "code",
   "execution_count": null,
   "id": "28860ded",
   "metadata": {},
   "outputs": [],
   "source": [
    "#DataFlair - Calculate the accuracy of our model\n",
    "accuracy=accuracy_score(y_true=y_test, y_pred=y_pred)\n",
    "\n",
    "#DataFlair - Print the accuracy\n",
    "print(\"Accuracy: {:.2f}%\".format(accuracy*100))"
   ]
  },
  {
   "cell_type": "code",
   "execution_count": null,
   "id": "0e47c451",
   "metadata": {},
   "outputs": [],
   "source": [
    "from sklearn.metrics import confusion_matrix, ConfusionMatrixDisplay\n",
    "\n",
    "# Create the confusion matrix\n",
    "confusion_matrix1 = confusion_matrix(y_test, y_pred)\n",
    "#confusion_matrix(y_test, y_pred)\n",
    "#disp = ConfusionMatrixDisplay(confusion_matrix=confusion_matrix1, display_labels=model.classes_)\n",
    "#disp.plot()"
   ]
  },
  {
   "cell_type": "code",
   "execution_count": null,
   "id": "cd8cd7af",
   "metadata": {},
   "outputs": [],
   "source": [
    "from sklearn.utils.multiclass import unique_labels\n",
    "df_cm = pd.DataFrame(confusion_matrix1, index = unique_labels(y_test, y_pred), columns = unique_labels(y_test, y_pred))\n",
    "fig, ax = plt.subplots(1, 1, figsize=(10,7))\n",
    "heatmap = sns.heatmap(df_cm, annot=True, ax=ax, fmt=\"d\")\n",
    "plt.ylabel('True label')\n",
    "plt.xlabel('Predicted label')\n",
    "plt.show()"
   ]
  },
  {
   "cell_type": "code",
   "execution_count": null,
   "id": "c9479ccb",
   "metadata": {},
   "outputs": [],
   "source": [
    "preds = model.predict(x_test)\n",
    "preds = pd.DataFrame({'predictedvalues': preds})\n",
    "preds\n"
   ]
  },
  {
   "cell_type": "code",
   "execution_count": null,
   "id": "7911c6fa",
   "metadata": {},
   "outputs": [],
   "source": [
    "actual=y_test\n",
    "actual = pd.DataFrame({'actualvalues': actual})"
   ]
  },
  {
   "cell_type": "code",
   "execution_count": null,
   "id": "cc2fc5e4",
   "metadata": {},
   "outputs": [],
   "source": [
    "finaldf = actual.join(preds)"
   ]
  },
  {
   "cell_type": "code",
   "execution_count": null,
   "id": "246d400e",
   "metadata": {},
   "outputs": [],
   "source": [
    "finaldf[170:180]"
   ]
  },
  {
   "cell_type": "code",
   "execution_count": null,
   "id": "c820ea09",
   "metadata": {},
   "outputs": [],
   "source": [
    "from sklearn.metrics import confusion_matrix, accuracy_score, classification_report\n",
    "# Classification report \n",
    "classes = finaldf.actualvalues.unique()\n",
    "classes.sort()    \n",
    "print(classification_report(finaldf.actualvalues, finaldf.predictedvalues, target_names=classes))"
   ]
  },
  {
   "cell_type": "code",
   "execution_count": null,
   "id": "17eff0cd",
   "metadata": {},
   "outputs": [],
   "source": []
  }
 ],
 "metadata": {
  "kernelspec": {
   "display_name": "Python 3 (ipykernel)",
   "language": "python",
   "name": "python3"
  },
  "language_info": {
   "codemirror_mode": {
    "name": "ipython",
    "version": 3
   },
   "file_extension": ".py",
   "mimetype": "text/x-python",
   "name": "python",
   "nbconvert_exporter": "python",
   "pygments_lexer": "ipython3",
   "version": "3.9.12"
  }
 },
 "nbformat": 4,
 "nbformat_minor": 5
}
